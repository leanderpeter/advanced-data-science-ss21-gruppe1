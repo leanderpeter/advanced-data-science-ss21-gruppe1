{
 "cells": [
  {
   "cell_type": "markdown",
   "metadata": {
    "id": "CZSAJzWQMc_r"
   },
   "source": [
    "#Imports"
   ]
  },
  {
   "cell_type": "code",
   "execution_count": 1,
   "metadata": {
    "id": "KujTleWrMqmR"
   },
   "outputs": [],
   "source": [
    "import io\n",
    "import requests\n",
    "import pandas as pd\n",
    "import matplotlib.pyplot as plt\n",
    "import seaborn as sns\n",
    "import plotly.express as px\n",
    "import numpy as np\n",
    "import seaborn as sns\n",
    "import scipy.stats as stats\n",
    "from sklearn.model_selection import train_test_split\n",
    "from sklearn.ensemble import IsolationForest\n",
    "from sklearn.covariance import EllipticEnvelope\n",
    "from sklearn.neighbors import LocalOutlierFactor\n",
    "from sklearn.svm import SVC, OneClassSVM\n",
    "from sklearn.ensemble import RandomForestRegressor\n",
    "from sklearn import linear_model\n",
    "from sklearn.linear_model import LinearRegression\n",
    "from sklearn.metrics import mean_squared_error, r2_score\n",
    "from sklearn.metrics import accuracy_score, f1_score\n",
    "import datetime as dt"
   ]
  },
  {
   "cell_type": "markdown",
   "metadata": {
    "id": "4MgZ6SeJMm2t"
   },
   "source": [
    "# Laden der Daten \n",
    "Die Daten werden aus einem CSV File in einen Pandas Dataframe geladen.\n",
    "Besonderes Augenmerk muss hier auf den Zeitstempel gelegt werden:\n",
    "Mit dem Formatstring **'%d.%m.%Y'** wird die integrität der Datumsspalte sichergestellt. Da wir fuer die Baseline regression auch den original Datensatz benoetigen haben wir uns entschieden das Laden der Daten als Funktion zu formulieren.\n",
    "Da die beiden Datensaetze eine unterschiedliche Datumsformatierung haben muessen wir einen Boolean uebergeben. Dieser gibt auskunft darueber ob es sich um den Originalen oder den Aufbreiteten Datensatz handelt."
   ]
  },
  {
   "cell_type": "code",
   "execution_count": 2,
   "metadata": {
    "id": "o5BjxZLIMNzE"
   },
   "outputs": [],
   "source": [
    "Task1dfURL=\"https://raw.githubusercontent.com/leanderpeter/advanced-data-science-ss21-gruppe1/master/dataset_f_exploration.csv\"\n",
    "OriginaldfURL=\"https://raw.githubusercontent.com/kevin-eberhardt/advanced-data-science-ss21-gruppe1/main/data/BikeRentalDaily_train_valid.csv\"\n",
    "OriginalKaggleURL=\"https://raw.githubusercontent.com/leanderpeter/advanced-data-science-ss21-gruppe1/master/original_dataset.csv\"\n",
    "def load_data(url, ori):\n",
    "  requested_file = requests.get(url).content\n",
    "  decoded_file = io.StringIO(requested_file.decode('utf-8'))\n",
    "  if ori == 'meth_ori':\n",
    "    data = pd.read_csv(decoded_file, sep = \";\")\n",
    "    data[\"dteday\"]= pd.to_datetime(data[\"dteday\"], format='%d.%m.%Y')\n",
    "  elif ori == 'exploration_clean':\n",
    "    data = pd.read_csv(decoded_file, sep = \";\")\n",
    "    data[\"dteday\"]= pd.to_datetime(data[\"dteday\"], format='%Y.%m.%d')\n",
    "  elif ori == 'kaggle_ori':\n",
    "    data = pd.read_csv(decoded_file, sep = \",\")\n",
    "    data[\"dteday\"]= pd.to_datetime(data[\"dteday\"], format='%Y-%m-%d')\n",
    "  return data\n",
    "\n",
    "original_df = load_data(OriginaldfURL, 'meth_ori')\n",
    "cleaned_df = load_data(Task1dfURL, 'exploration_clean')\n",
    "original_kaggle_dataset = load_data(OriginalKaggleURL, 'kaggle_ori')"
   ]
  },
  {
   "cell_type": "markdown",
   "metadata": {
    "id": "cr3HKAB0Mf3b"
   },
   "source": []
  },
  {
   "cell_type": "markdown",
   "metadata": {
    "id": "cfV-XLtE89c0"
   },
   "source": [
    "# Baseline regression"
   ]
  },
  {
   "cell_type": "markdown",
   "metadata": {
    "id": "Uiu3fFUwRcgO"
   },
   "source": [
    "## Multiple feature regression"
   ]
  },
  {
   "cell_type": "markdown",
   "metadata": {
    "id": "q63p5VuT8-6k"
   },
   "source": [
    "Um einen vergleichswert zu erhalten sowie das verstaendnis fuer die Daten zu erhoehen fuehren wir eine Baseline Regression durch. Hierbei bereiten wir den Datensatz minimal auf und geben ihn mit der Zielvariable in eine lineare Regression. Die minimale aufbereitung uebernimmt die variablen '**temp**', '**leaflets**', '**windspeed**','**season**', '**atemp**', '**hum**'"
   ]
  },
  {
   "cell_type": "code",
   "execution_count": 3,
   "metadata": {
    "id": "oqp3cizn91wV"
   },
   "outputs": [],
   "source": [
    "#  use all features for the baseline regression\n",
    "ori_reg_df = original_df.dropna()\n",
    "x = ori_reg_df[['temp', 'leaflets', 'windspeed','season', 'atemp', 'hum',\"price reduction\",\"yr\",\"mnth\",\"holiday\",\"weekday\",\"workingday\",\"weathersit\",\"price reduction\"]]\n",
    "y = ori_reg_df['cnt']\n",
    "\n",
    "# split x and y into test and train\n",
    "x_train,x_test,y_train,y_test = train_test_split(x,y,test_size = 0.30 ,random_state = 2)"
   ]
  },
  {
   "cell_type": "markdown",
   "metadata": {
    "id": "9Oct6H5m9-dm"
   },
   "source": [
    "## baseline multiple features linear regression"
   ]
  },
  {
   "cell_type": "code",
   "execution_count": 4,
   "metadata": {
    "colab": {
     "base_uri": "https://localhost:8080/"
    },
    "id": "hSAFw19px7ru",
    "outputId": "fb22fffc-50c4-43ac-eadd-c2b4a0ba60b8"
   },
   "outputs": [
    {
     "data": {
      "text/plain": [
       "0.3225454547596318"
      ]
     },
     "execution_count": 4,
     "metadata": {},
     "output_type": "execute_result"
    }
   ],
   "source": [
    "clf_lr = LinearRegression()      \n",
    "lr_baseline_model = clf_lr.fit(x_train,y_train)\n",
    "\n",
    "def generate_accuracy_and_heatmap(model, x, y):\n",
    "    #cm = confusion_matrix(y,model.predict(x))\n",
    "    #sns.heatmap(cm,annot=True,fmt=\"d\")\n",
    "    # Make predictions using the testing set\n",
    "    pred = model.predict(x)\n",
    "\n",
    "    # The coefficients\n",
    "    # print('Coefficients: \\n', model.coef_)\n",
    "    # The mean squared error\n",
    "    # print('Mean squared error: %.2f' % mean_squared_error(y, pred))\n",
    "    # The coefficient of determination: 1 is perfect prediction\n",
    "    # print('Coefficient of determination: %.2f' % r2_score(y, pred))\n",
    "    return r2_score(y, pred)\n",
    "\n",
    "generate_accuracy_and_heatmap(lr_baseline_model, x_test, y_test)"
   ]
  },
  {
   "cell_type": "markdown",
   "metadata": {
    "id": "m9Xwca6V_7p3"
   },
   "source": [
    "Bei der Baseline Regression kommen wir auf einen **R² Wert von 0.322**. Dieser ist nicht zufriedenstellend und bietet moeglichkeiten der verbesserung. In der Grafik sind die, schon in der data exploration aufgefallenen, outlier zu sehen."
   ]
  },
  {
   "cell_type": "markdown",
   "metadata": {
    "id": "7MR-gQYywfE4"
   },
   "source": [
    "# Preprocessing"
   ]
  },
  {
   "cell_type": "markdown",
   "metadata": {
    "id": "bXrITa73t4yp"
   },
   "source": [
    "## Data Preparing\n",
    "\n",
    "Da unsere Test Daten aus einem unberuehrten Datensatz stammen muessen wir die Data Preparation Prozesse fuer weekday sowie season und date_offset auch in die Preprocessing pipeline mit einbringen."
   ]
  },
  {
   "cell_type": "markdown",
   "metadata": {
    "id": "krLb-SvKufjp"
   },
   "source": [
    "### Weekday Clean"
   ]
  },
  {
   "cell_type": "code",
   "execution_count": 5,
   "metadata": {
    "id": "2TXtXp07uRLh"
   },
   "outputs": [],
   "source": [
    "def weekday_clean(dataframe):\n",
    "  dataframe['weekday_clean'] = dataframe['dteday'].dt.dayofweek\n",
    "  return dataframe"
   ]
  },
  {
   "cell_type": "markdown",
   "metadata": {
    "id": "N36lIh98uhY5"
   },
   "source": [
    "### Season Clean"
   ]
  },
  {
   "cell_type": "code",
   "execution_count": 6,
   "metadata": {
    "id": "3dMwCeDDumTY"
   },
   "outputs": [],
   "source": [
    "def season_date_offset(dataframe):\n",
    "  dataframe['date_offset'] = (dataframe.dteday.dt.month*100 + dataframe.dteday.dt.day - 320)%1300\n",
    "  dataframe['season_clean'] = pd.cut(dataframe['date_offset'], [-1, 300, 602, 900, 1300], labels=[2, 3, 4, 1])\n",
    "  return dataframe"
   ]
  },
  {
   "cell_type": "markdown",
   "metadata": {
    "id": "quBqMh9HGmrH"
   },
   "source": [
    "## Drop unnecessary\n",
    "\n",
    "Wir wissen bereits aus der Data Exploration das die Summe aus den Werten **casual** und **registered** unsere Zielvariable gebildet wird. Somit werden wir diese Spalten entfernen.\n",
    "\n",
    "\n",
    "---\n",
    "\n",
    "\n",
    "Gleichzeitig wurden bereits in der Data Exploration bereits die Spalten Season durch season_clean ersetzt sowie weekday durch weekday_clean. Somit entfernen wir auch hier die Spalten **season** und **weekday**.\n",
    "\n",
    "\n",
    "---\n",
    "\n",
    "Auch hat werden wir fuer das weitere verfahren die Gefuelhte Temperatur verwenden **atemp**.\n",
    "\n",
    "\n",
    "---\n",
    "\n",
    "Auch hat sich gezeigt das die Anzahl der leaflets ueber beide Jahre gleich verteilt ist. Diese kann somit auch entfernt werden."
   ]
  },
  {
   "cell_type": "code",
   "execution_count": 7,
   "metadata": {
    "id": "D9g3c-RiHdsI"
   },
   "outputs": [],
   "source": [
    "def remove_unnecessary(dataframe, columns):\n",
    "  for cols in columns: \n",
    "    del dataframe[cols]\n",
    "  return dataframe\n",
    "\n",
    "#cleaned_df = remove_unnecessary(cleaned_df,['casual', 'registered', 'season', 'weekday', 'hum', 'temp', 'windspeed', 'instant', 'leaflets'])\n",
    "#cleaned_df.head(10)"
   ]
  },
  {
   "cell_type": "markdown",
   "metadata": {
    "id": "mWIF6psAwhTg"
   },
   "source": [
    "##Missing Values"
   ]
  },
  {
   "cell_type": "markdown",
   "metadata": {
    "id": "mlAzgsDgwmVY"
   },
   "source": [
    "Unsere Strategie besteht darin, aus der Spalte mit den fehlenden Werten neue Spalten zu erstellen und deren Auswirkung auf die Zielspalte zu überprüfen. Die schlechteren Spalten werden eliminiert und nur die nützlichen Spalten für die Schleife des maschinellen Lernens behalten."
   ]
  },
  {
   "cell_type": "markdown",
   "metadata": {
    "id": "LxD3mnFVw3RZ"
   },
   "source": [
    "Durch die Data Exploration in Task 1 wissen wir bereits das wir in den Spalten **season** und **hum** fehlende Werte haben. Um das zu ueberpruefen lassen wir uns erneut die fehlenden Werte anzeigen. \n",
    "\n",
    "---\n",
    "\n",
    "Es ist zu anzumerken das wir ab diesem Abschnitt mit dem vorbereiteten Datensatz von der Data Exploration Arbeiten"
   ]
  },
  {
   "cell_type": "code",
   "execution_count": 8,
   "metadata": {
    "colab": {
     "base_uri": "https://localhost:8080/"
    },
    "id": "yibthGVcxH7k",
    "outputId": "c5391a3c-470c-4a54-d3f8-0464f700cc2e"
   },
   "outputs": [
    {
     "data": {
      "text/plain": [
       "Unnamed: 0          0\n",
       "instant             0\n",
       "dteday              0\n",
       "season             62\n",
       "yr                  0\n",
       "mnth                0\n",
       "holiday             0\n",
       "weekday             0\n",
       "workingday          0\n",
       "weathersit          0\n",
       "temp                0\n",
       "atemp               0\n",
       "hum                34\n",
       "windspeed           0\n",
       "leaflets            0\n",
       "price reduction     0\n",
       "casual              0\n",
       "registered          0\n",
       "cnt                 0\n",
       "date_offset         0\n",
       "season_clean        0\n",
       "weekday_clean       0\n",
       "dtype: int64"
      ]
     },
     "execution_count": 8,
     "metadata": {},
     "output_type": "execute_result"
    }
   ],
   "source": [
    "cleaned_df.isnull().sum()"
   ]
  },
  {
   "cell_type": "markdown",
   "metadata": {
    "id": "xdl5PNBWztCm"
   },
   "source": [
    "Zu erkennen ist das es sich um 62 fehlende season Werte sowie 34 fehlende hum Werte handelt. Hierbei ist besonders zu beachten das es sich bei season um ein Kategeorisches Featrue und bei hum um ein Numerisches Feature handelt.\n",
    "\n",
    "---\n",
    "\n",
    "Durch die Vorarbeit der Data Exploration haben wir bereits eine Spalte mit den korrekten Season Werten - **season_clean**."
   ]
  },
  {
   "cell_type": "markdown",
   "metadata": {
    "id": "XdF-Z9iD3iE0"
   },
   "source": [
    "Folgende Methoden der imputaion wenden wir an:\n",
    "\n",
    "\n",
    "1.   **Mean imputation**\n",
    "2.   **Median imputation**\n",
    "3.   **Constant imputation**\n",
    "4.   **Avergae imputation with most frequent strategy**\n",
    "5.   Deterministic Regression imputation\n",
    "6.   Knn imputation\n",
    "\n",
    "Wir definieren fuer die ersten 4 strategien eine Funktion welche 3 parameter erwartet. Diese sind dataframe fuer den datensatz, column fuer die zu behandelnde Spalte sowie strategy welche die strategie bestimmt (mean, median, constant, most_frequent). Constant sollte hierbei nicht verwendet werden, da es fuer missing values eine 0 uebergibt\n",
    "\n",
    "### Simple Imputer\n"
   ]
  },
  {
   "cell_type": "code",
   "execution_count": 9,
   "metadata": {
    "id": "f_b0OpbE4mQn"
   },
   "outputs": [],
   "source": [
    "from sklearn.impute import SimpleImputer\n",
    "\n",
    "def unvariate_imputation(dataframe, column, strategy):\n",
    "  imp = SimpleImputer(missing_values=np.nan, strategy=strategy)\n",
    "  clean_name = f\"{column}_{strategy}_clean\"\n",
    "  dataframe[clean_name] = dataframe[column]\n",
    "  dataframe[clean_name] = imp.fit_transform(dataframe[[clean_name]].to_numpy())\n",
    "  return dataframe\n",
    "  \n",
    "# beispiel funktionsaufruf\n",
    "# cleaned_df = unvariate_imputation(cleaned_df, 'hum', 'mean')\n"
   ]
  },
  {
   "cell_type": "markdown",
   "metadata": {
    "id": "FYar5v70AVPc"
   },
   "source": [
    "\n",
    "\n",
    "1.   Mean imputation\n",
    "2.   Median imputation\n",
    "3.   Constant imputation\n",
    "4.   Avergae imputation with most frequent strategy\n",
    "5.   **Deterministic Regression imputation**\n",
    "6.   Knn imputation\n",
    "\n",
    "Fuer die Determnistische Regression Imputation definieren wir eine Funktion welche 4 Parameter entgegennimmt. dataframe, welche den Datensatz darstellt, column fuer die zu behandelnde Spalte, refrence_column welche die X variable der Regression darstellt sowie iteration welche die Anzahl an Iterationen darstellt.\n",
    "\n",
    "### Regression Imputer\n"
   ]
  },
  {
   "cell_type": "code",
   "execution_count": 10,
   "metadata": {
    "id": "fDiGGLmlArE_"
   },
   "outputs": [],
   "source": [
    "from sklearn.experimental import enable_iterative_imputer\n",
    "from sklearn.impute import IterativeImputer\n",
    "\n",
    "def regression_imputation(dataframe, column, refrence_column, iteration):\n",
    "  clean_name = f\"{column}_regression_with_{iteration}_clean\"\n",
    "  dataframe[clean_name] = dataframe[column]\n",
    "  imp = IterativeImputer(max_iter=iteration, sample_posterior=False)\n",
    "  dataframe[clean_name] = np.round(imp.fit_transform(dataframe[[clean_name, refrence_column]].to_numpy()),3)\n",
    "  return dataframe\n",
    "\n",
    "# beispiel funktionsaufruf\n",
    "#cleaned_df = regression_imputation(cleaned_df, 'hum', 'temp', 100)\n",
    "#cleaned_df.head(100)"
   ]
  },
  {
   "cell_type": "markdown",
   "metadata": {
    "id": "19uXPE97PTlQ"
   },
   "source": [
    "1.   Mean imputation\n",
    "2.   Median imputation\n",
    "3.   Constant imputation\n",
    "4.   Avergae imputation with most frequent strategy\n",
    "5.   Deterministic Regression imputation\n",
    "6.   **Knn imputation**\n",
    "\n",
    "Fuer die Knn Imputation definieren wir eine Funktion welche 4 Parameter entgegennimmt. Dataframe, welche den Datensatz darstellt, column fuer die zu behandelnde Spalte, refrence_column welche die X variable der Knn darstellt sowie n welche die Anzahl an Nachbarn darstellt.\n",
    "\n",
    "### Knn Imputer"
   ]
  },
  {
   "cell_type": "code",
   "execution_count": 11,
   "metadata": {
    "id": "HDpAHONrPqkn"
   },
   "outputs": [],
   "source": [
    "from sklearn.impute import KNNImputer\n",
    "\n",
    "def knn_imputation(dataframe, column, refrence_column, n):\n",
    "  clean_name = f\"{column}_knn_clean\"\n",
    "  dataframe[clean_name] = dataframe[column]\n",
    "  imputer = KNNImputer(n_neighbors=n, weights=\"uniform\")\n",
    "  dataframe[clean_name] = imputer.fit_transform(dataframe[[clean_name, refrence_column]].to_numpy())\n",
    "  return dataframe\n",
    "\n",
    "# beispiel funktionsaufruf\n",
    "# cleaned_df = knn_imputation(cleaned_df, 'hum', 'temp', 2)\n",
    "# cleaned_df.head(50)"
   ]
  },
  {
   "cell_type": "markdown",
   "metadata": {
    "id": "KRsV2h2icIbn"
   },
   "source": [
    "1.   Mean imputation\n",
    "2.   Median imputation\n",
    "3.   Constant imputation\n",
    "4.   Avergae imputation with most frequent strategy\n",
    "5.   Deterministic Regression imputation\n",
    "6.   Knn imputation\n",
    "7.   **Random Forest Regressor**\n",
    "\n",
    "Fuer die Knn Imputation definieren wir eine Funktion welche 4 Parameter entgegennimmt. Dataframe, welche den Datensatz darstellt, column fuer die zu behandelnde Spalte, refrence_column welche die X variable der Knn darstellt sowie n welche die Anzahl an Nachbarn darstellt.\n",
    "\n",
    "## Random Forest Imputer"
   ]
  },
  {
   "cell_type": "code",
   "execution_count": 12,
   "metadata": {
    "id": "lIRsB6BtcMKv"
   },
   "outputs": [],
   "source": [
    "from sklearn.ensemble import RandomForestRegressor\n",
    "\n",
    "def random_forest_imputation(data, column, pred_columns):\n",
    "  clean_name = f\"{column}_random_forest_clean\"\n",
    "  data[clean_name] = data[column]\n",
    "  if True in data.isnull()[column].unique():\n",
    "    print('Outlier Found -- Starting imputation')\n",
    "    hum_nans = data[data[clean_name].isnull()]\n",
    "    hum_not_nan = data[data[clean_name].notnull()]\n",
    "    hum_random_forest = RandomForestRegressor()\n",
    "    hum_random_forest.fit(hum_not_nan[pred_columns], hum_not_nan[clean_name])\n",
    "    hum_pred_values = hum_random_forest.predict(X= hum_nans[pred_columns])\n",
    "    hum_nans[clean_name] = hum_pred_values\n",
    "    data = hum_not_nan.append(hum_nans)\n",
    "    data.reset_index(inplace=True)\n",
    "    data.drop('index',inplace=True,axis=1)\n",
    "    return data\n",
    "  else:\n",
    "    print('no outliers found')\n",
    "    return data\n",
    "  \n",
    "\n",
    "#cleaned_df = random_forest_imputation(cleaned_df, 'hum', [\"season_clean\",\"weathersit\",\"windspeed\",\"mnth\",\"temp\",\"yr\",\"atemp\"])\n",
    "#cleaned_df.head(50)"
   ]
  },
  {
   "cell_type": "markdown",
   "metadata": {
    "id": "-QdOyVkUhP_g"
   },
   "source": [
    "## Remove Wind Outliers\n",
    "\n",
    "In dieser Funktion werden alle Windspeed Werte entfernt die einen Wert kleiner oder gleich 0 haben."
   ]
  },
  {
   "cell_type": "code",
   "execution_count": 13,
   "metadata": {
    "id": "l6zi3LiphSv4"
   },
   "outputs": [],
   "source": [
    "def remove_wind_outliers(dataset, column):\n",
    "  dataset[column] = dataset[column].apply(lambda x : x if x >= 0 else np.nan)\n",
    "  return dataset\n",
    "\n",
    "# cleaned_df = remove_wind_outliers(cleaned_df, 'windspeed')\n",
    "# cleaned_df.head(10)"
   ]
  },
  {
   "cell_type": "markdown",
   "metadata": {
    "id": "IJlrHwV-iDHI"
   },
   "source": [
    "## Transformationen\n",
    "\n",
    "Um eine einfache Imputation zu verwenden, müssen wir auch die kategorischen Werte in ein numerisches Format konvertieren. Die Lösung ist die Verwendung von Encodern und glücklicherweise bietet SKLearn eine Vielzahl von Encodern. Eine detaillierte Liste der Encoder finden Sie in der sklearn.preprocessing API, aber für unseren Fall verwenden wir den LabelEncoder sowie den OneHotEncoder. Nach den Encodern werden wir auch die Normalisierer behandeln."
   ]
  },
  {
   "cell_type": "markdown",
   "metadata": {
    "id": "-E307KNkkeCj"
   },
   "source": [
    "### OneHotEncoder\n",
    "\n",
    "Der OneHotEncoder erweitert die Anzahl der Features in einem Datensatz, für jedes Label in der Spalte //und wird bei ungeordneten (ordinalen) Daten verwendet//. Nach der Erweiterung wird das Label unter der Spalte als 1 und für den Rest als 0 angezeigt.\n",
    "Wir definieren eine Funktion welche 2 Parameter entgegennimmt, dataframe fuer den Datensatz, sowie column fuer die Spalte welche bearbeitet werden soll. Die Funktion loescht nun die Spalte und fuegt am Dataframe die hot encodeten spalten mit Name {column_hot-encoded-label} an."
   ]
  },
  {
   "cell_type": "code",
   "execution_count": 14,
   "metadata": {
    "id": "4fLsQqhtky6L"
   },
   "outputs": [],
   "source": [
    "from sklearn.preprocessing import LabelBinarizer\n",
    "\n",
    "def one_hot_encoder(dataframe, column):\n",
    "  lb = LabelBinarizer()\n",
    "  dataframe = dataframe.join(pd.DataFrame(lb.fit_transform(dataframe[column]),columns=lb.classes_, index=dataframe.index))\n",
    "  uniques = dataframe[column].unique()\n",
    "  col_names = {}\n",
    "  for i in uniques:\n",
    "    col_names[i] = f\"{column}_{i}\"\n",
    "  dataframe = dataframe.rename(columns=col_names)\n",
    "  return dataframe\n",
    "\n",
    "# cleaned_df = one_hot_encoder(cleaned_df, 'holiday')\n",
    "# cleaned_df.head(50)"
   ]
  },
  {
   "cell_type": "markdown",
   "metadata": {
    "id": "4lMrPr98v42x"
   },
   "source": [
    "## Outliers\n",
    "\n",
    "This function takes care of outliers. It simply takes away everything above the 75th quantile and below the 25th quantile in a specified column"
   ]
  },
  {
   "cell_type": "code",
   "execution_count": 15,
   "metadata": {
    "id": "CSw63V4Vv4aK"
   },
   "outputs": [],
   "source": [
    "def remove_outlier(df_in, col_name):\n",
    "    q1 = df_in[col_name].quantile(0.25)\n",
    "    q3 = df_in[col_name].quantile(0.75)\n",
    "    iqr = q3-q1\n",
    "    fence_low  = q1-1.5*iqr\n",
    "    fence_high = q3+1.5*iqr\n",
    "    df_out = df_in.loc[(df_in[col_name] > fence_low) & (df_in[col_name] < fence_high)]\n",
    "    return df_out"
   ]
  },
  {
   "cell_type": "markdown",
   "metadata": {
    "id": "3OIxAwPjrUsT"
   },
   "source": [
    "## Normalization\n",
    "numerical_featuress = [\"temp\",\"atemp\",\"hum\",\"windspeed\",\"leaflets\"]"
   ]
  },
  {
   "cell_type": "markdown",
   "metadata": {
    "id": "L_x662VSsO90"
   },
   "source": [
    "### MinMaxScaler\n",
    "\n",
    "//MinMax-Normierung wird verwendet, um alle Werte in den Bereich von 0 bis 1 zu bringen//"
   ]
  },
  {
   "cell_type": "code",
   "execution_count": 16,
   "metadata": {
    "id": "dKlj0YpgrXyr"
   },
   "outputs": [],
   "source": [
    "from sklearn import preprocessing\n",
    "\n",
    "numerical_features = [\"temp\",\"atemp\",\"hum\",\"windspeed\",\"leaflets\"]\n",
    "\n",
    "def min_max_scaler(dataframe, columns):\n",
    "  min_max_scaler = preprocessing.MinMaxScaler()\n",
    "  dataframe[columns] = min_max_scaler.fit_transform(dataframe[columns])\n",
    "  return dataframe\n",
    "\n",
    "# cleaned_df = min_max_scaler(cleaned_df, numerical_features)\n",
    "# cleaned_df.head(50)"
   ]
  },
  {
   "cell_type": "markdown",
   "metadata": {
    "id": "aK2gNsXQtTfs"
   },
   "source": [
    "### Standard Scaler\n",
    "\n",
    "//StandardScaler transformiert Daten so, dass ihre Verteilung einen Mittelwert von 0 und eine Standardabweichung von 1 hat.//"
   ]
  },
  {
   "cell_type": "code",
   "execution_count": 17,
   "metadata": {
    "id": "R50RaDlXtY10"
   },
   "outputs": [],
   "source": [
    "from sklearn import preprocessing\n",
    "\n",
    "def standard_scaler(dataframe, columns):\n",
    "  standard_scaler = preprocessing.StandardScaler()\n",
    "  dataframe[columns] = standard_scaler.fit_transform(dataframe[columns])\n",
    "  return dataframe\n",
    "\n",
    "#cleaned_df = standard_scaler(cleaned_df, numerical_features)\n",
    "#cleaned_df.head(50)"
   ]
  },
  {
   "cell_type": "markdown",
   "metadata": {
    "id": "1FH-c1pVuqJ-"
   },
   "source": [
    "###Robust Scaler\n",
    "\n",
    "//Wenn Daten viele Ausreißer enthalten, ist die Skalierung mit dem Mittelwert und der Standardabweichung oft nicht gut. In diesen Fällen entfernt RobustScaler den Median und skaliert die Daten entsprechend dem Quantilbereich.//"
   ]
  },
  {
   "cell_type": "code",
   "execution_count": 18,
   "metadata": {
    "id": "r_iLM-BDurtN"
   },
   "outputs": [],
   "source": [
    "from sklearn import preprocessing\n",
    "\n",
    "def robust_scaler(dataframe, columns):\n",
    "  robust_scaler = preprocessing.RobustScaler()\n",
    "  dataframe[columns] = robust_scaler.fit_transform(dataframe[columns])\n",
    "  dataframe[columns] = robust_scaler.transform(dataframe[columns])\n",
    "  return dataframe\n",
    "\n",
    "# cleaned_df = robust_scaler(cleaned_df, numerical_features)\n",
    "# cleaned_df.head(50)"
   ]
  },
  {
   "cell_type": "markdown",
   "metadata": {
    "id": "am5YpI9cBFWF"
   },
   "source": [
    "###QuantileTransformer\n",
    "\n",
    "//QuantileTransformer wendet eine nichtlineare Transformation an, so dass die Wahrscheinlichkeitsdichtefunktion jedes Merkmals auf eine Gleichverteilung abgebildet wird. In diesem Fall werden alle Daten in den Bereich von 0 bis 1 abgebildet, auch die Ausreißer, die nicht mehr von den Normalwerten unterschieden werden können.\n",
    "\n",
    "Wie RobustScaler ist QuantileTransformer robust gegenüber Ausreißern in dem Sinne, dass das Hinzufügen oder Entfernen von Ausreißern in der Trainingsmenge annähernd die gleiche Transformation auf den herausgehaltenen Daten ergibt. Aber im Gegensatz zu RobustScaler kollabiert QuantileTransformer auch automatisch jeden Ausreißer, indem er ihn auf die definierten Bereichsgrenzen (0 und 1) setzt.//"
   ]
  },
  {
   "cell_type": "markdown",
   "metadata": {
    "id": "H0AudmxUHw-r"
   },
   "source": [
    "Func takes in 3 args, column needs to be list"
   ]
  },
  {
   "cell_type": "code",
   "execution_count": 19,
   "metadata": {
    "id": "IdpQAuUABIkt"
   },
   "outputs": [],
   "source": [
    "from sklearn.preprocessing import QuantileTransformer\n",
    "\n",
    "def quantile_transformer(dataframe, column, quantiles):\n",
    "  # why the fuck did i added all transformed values to the dataframe?!\n",
    "  # just replce them\n",
    "  trans = QuantileTransformer(n_quantiles=quantiles, output_distribution='normal')\n",
    "  data = trans.fit_transform(dataframe[column])\n",
    "  # convert the array back to a dataframe\n",
    "  dataframe[column] = data\n",
    "  return dataframe\n",
    "\n",
    "# cleaned_df = quantile_transformer(cleaned_df, ['temp'], 10)\n",
    "# cleaned_df.head(10)"
   ]
  },
  {
   "cell_type": "markdown",
   "metadata": {
    "id": "mUMMsUECzZU4"
   },
   "source": [
    "## Feature Selection"
   ]
  },
  {
   "cell_type": "markdown",
   "metadata": {
    "id": "5x1ix6TRzcHA"
   },
   "source": [
    "Das Ziel der rec_feature_eliminator funktion besteht darin, Features auszuwählen, indem rekursiv immer kleinere Sets von Features berücksichtigt werden. Zuerst wird der estimator auf dem anfänglichen Set von Features trainiert und die Wichtigkeit jedes Features wird entweder durch ein bestimmtes Attribut oder durch einen Callable ermittelt. Dann werden die am wenigsten wichtigen Merkmale aus dem aktuellen Satz von Merkmalen entfernt. Diese Prozedur wird rekursiv mit dem beschnittenen Satz wiederholt, bis die gewünschte Anzahl der auszuwählenden Merkmale schließlich erreicht ist.\n",
    "\n",
    "###Rekursive feature elimination"
   ]
  },
  {
   "cell_type": "code",
   "execution_count": 20,
   "metadata": {
    "id": "hKp4DYnn0MaU"
   },
   "outputs": [],
   "source": [
    "from sklearn.feature_selection import RFE\n",
    "\n",
    "def rec_feature_elimination(dataframe, split, target, return_training_data, columns_consider):\n",
    "  X = dataframe[columns_consider]\n",
    "  Y = dataframe['cnt']\n",
    "  x_train, x_test, y_train, y_test = train_test_split(X, Y, \n",
    "                                                    test_size=split, \n",
    "                                                    random_state=8)\n",
    "  reg = linear_model.LinearRegression()\n",
    "  reg.fit(x_train, y_train)\n",
    "  rfe = RFE(estimator=reg, step=1)\n",
    "  rfe = rfe.fit(x_train, y_train)\n",
    "  selected_rfe_features = pd.DataFrame({'Feature':list(x_train.columns),'Ranking':rfe.ranking_})\n",
    "\n",
    "  print('Optimal number of features :', rfe.n_features_)\n",
    "  print('Best features :', x_train.columns[rfe.support_])\n",
    "\n",
    "  if return_training_data:\n",
    "    x_train_rfe = rfe.transform(x_train)\n",
    "    x_test_rfe = rfe.transform(x_test)\n",
    "    return x_train_rfe, x_test_rfe, y_train, y_test\n",
    "  else:\n",
    "    return selected_rfe_features\n",
    "\n",
    "# ranking = rec_feature_elimination(cleaned_df, 0.3, 'cnt', False)\n",
    "# ranking.sort_values(by='Ranking')"
   ]
  },
  {
   "cell_type": "markdown",
   "metadata": {
    "id": "7zBWWeXiBPn_"
   },
   "source": [
    "Die Funktion rec_feature_elimination_cv nimmt 4 Parameter entgegen. dataframe, der datensatz, cross die Anzahl an cross-folds, columns_consider die spalten welche fuer das training beruecksichtigt werden sollen sowie split welches den faktor der aufteilung zwischen test und trainingsdatensatz angibt. Die funktion uebernimmt das Feature-Ranking mit rekursiver Feature-Elimination und kreuzvalidierter Auswahl der besten Anzahl von Features.\n",
    "\n",
    "### Rekursive feature elimination mit cross validation"
   ]
  },
  {
   "cell_type": "code",
   "execution_count": 21,
   "metadata": {
    "id": "qBtzNYkOBQQf"
   },
   "outputs": [],
   "source": [
    "from sklearn.feature_selection import RFECV\n",
    "\n",
    "def rec_feature_elimination_cv(dataframe, cross, columns_consider, split):\n",
    "  X = dataframe[columns_consider]\n",
    "  Y = dataframe['cnt']\n",
    "  x_train, x_test, y_train, y_test = train_test_split(X, Y, \n",
    "                                                    test_size=split, \n",
    "                                                    random_state=8)\n",
    "  reg = linear_model.LinearRegression()\n",
    "  reg.fit(x_train, y_train)\n",
    "\n",
    "  rfecv = RFECV(estimator=reg, step=1, cv=cross)\n",
    "  rfecv = rfecv.fit(x_train, y_train)\n",
    "  print('Optimal number of features :', rfecv.n_features_)\n",
    "  print('Best features :', x_train.columns[rfecv.support_])\n",
    "  '''\n",
    "  plt.figure()\n",
    "  plt.xlabel(\"Number of features selected\")\n",
    "  plt.ylabel(\"Cross validation score of number of selected features\")\n",
    "  plt.plot(range(1, len(rfecv.grid_scores_) + 1), rfecv.grid_scores_)\n",
    "  plt.show()\n",
    "  '''\n",
    "  x_train_rfecv = rfecv.transform(x_train)\n",
    "  x_test_rfecv = rfecv.transform(x_test)\n",
    "\n",
    "  return x_train_rfecv, x_test_rfecv, y_train, y_test\n",
    "\n"
   ]
  },
  {
   "cell_type": "markdown",
   "metadata": {
    "id": "_Ue9l3JcZHzs"
   },
   "source": [
    "### Univariate feature selection"
   ]
  },
  {
   "cell_type": "code",
   "execution_count": 22,
   "metadata": {
    "id": "5dk6bKUvZLp0"
   },
   "outputs": [],
   "source": [
    "from sklearn.feature_selection import SelectKBest, chi2\n",
    "\n",
    "def univariate_feature_selection(dataframe, columns_consider, split):\n",
    "  X = dataframe[columns_consider]\n",
    "  Y = dataframe['cnt']\n",
    "  x_train, x_test, y_train, y_test = train_test_split(X, Y, \n",
    "                                                    test_size=split, \n",
    "                                                    random_state=8)\n",
    "  select_feature = SelectKBest(chi2, k=5).fit(x_train, y_train)\n",
    "  #selected_features_df = pd.DataFrame({'Feature':list(x_train.columns),'Scores':select_feature.scores_})\n",
    "  #selected_features_df.sort_values(by='Scores', ascending=False)\n",
    "  x_train_chi = select_feature.transform(x_train)\n",
    "  x_test_chi = select_feature.transform(x_test)\n",
    "  return x_train_chi, x_test_chi, y_train, y_test\n",
    "\n",
    "\n",
    "# x_train_chi, x_test_chi, y_train, y_test = univariate_feature_selection(cleaned_df, cols_to_consider, 0.3)"
   ]
  },
  {
   "cell_type": "markdown",
   "metadata": {
    "id": "Iadddz6e0MZo"
   },
   "source": [
    "Hier klopfen wir nur das Preprocessing in einer test funktion zusammen und schauen wie sich unsere Werte bisher verbessern (oder verschlechtern).\n",
    "\n",
    "\n",
    "---\n",
    "\n",
    "\n",
    "Hierbei haben wir die verschiedenen Methode, recursive feature elimination und recursive feature elimination with cross validation manuelle feature selection, gegeneinander antreten lassen. Hierbei war zu erkennen das beide Methoden das Ergebnis massgeblich verschlechtert haben.\n",
    "\n",
    "# Testing Playground"
   ]
  },
  {
   "cell_type": "code",
   "execution_count": 23,
   "metadata": {
    "colab": {
     "base_uri": "https://localhost:8080/",
     "height": 1000
    },
    "id": "z2EsViD50OhA",
    "outputId": "e70bf14b-4f6e-4789-cf92-f1c35384e342"
   },
   "outputs": [
    {
     "name": "stdout",
     "output_type": "stream",
     "text": [
      "Outlier Found -- Starting imputation\n",
      "Outlier Found -- Starting imputation\n"
     ]
    },
    {
     "name": "stderr",
     "output_type": "stream",
     "text": [
      "/home/l/anaconda3/envs/datascience/lib/python3.6/site-packages/ipykernel_launcher.py:13: SettingWithCopyWarning:\n",
      "\n",
      "\n",
      "A value is trying to be set on a copy of a slice from a DataFrame.\n",
      "Try using .loc[row_indexer,col_indexer] = value instead\n",
      "\n",
      "See the caveats in the documentation: https://pandas.pydata.org/pandas-docs/stable/user_guide/indexing.html#returning-a-view-versus-a-copy\n",
      "\n",
      "/home/l/anaconda3/envs/datascience/lib/python3.6/site-packages/ipykernel_launcher.py:13: SettingWithCopyWarning:\n",
      "\n",
      "\n",
      "A value is trying to be set on a copy of a slice from a DataFrame.\n",
      "Try using .loc[row_indexer,col_indexer] = value instead\n",
      "\n",
      "See the caveats in the documentation: https://pandas.pydata.org/pandas-docs/stable/user_guide/indexing.html#returning-a-view-versus-a-copy\n",
      "\n"
     ]
    },
    {
     "name": "stdout",
     "output_type": "stream",
     "text": [
      "Optimal number of features : 21\n",
      "Best features : Index(['yr', 'holiday', 'weathersit', 'atemp', 'season_clean',\n",
      "       'hum_mean_clean', 'hum_median_clean', 'hum_most_frequent_clean',\n",
      "       'hum_regression_with_10_clean', 'hum_knn_clean',\n",
      "       'hum_random_forest_clean', 'weathersit_2', 'weathersit_3', 'mnth_1',\n",
      "       'mnth_2', 'mnth_7', 'mnth_9', 'mnth_11', 'mnth_12', 'season_clean_2',\n",
      "       'weekday_clean_6'],\n",
      "      dtype='object')\n",
      "(417, 21)\n",
      "REC elimination R^2:  0.8070159518791507\n",
      "Optimal number of features : 42\n",
      "Best features : Index(['yr', 'mnth', 'holiday', 'workingday', 'weathersit', 'atemp',\n",
      "       'windspeed_random_forest_clean', 'price reduction', 'season_clean',\n",
      "       'weekday_clean', 'hum_mean_clean', 'hum_median_clean',\n",
      "       'hum_most_frequent_clean', 'hum_regression_with_10_clean',\n",
      "       'hum_knn_clean', 'hum_random_forest_clean', 'weathersit_1',\n",
      "       'weathersit_2', 'weathersit_3', 'mnth_1', 'mnth_2', 'mnth_3', 'mnth_4',\n",
      "       'mnth_5', 'mnth_6', 'mnth_7', 'mnth_8', 'mnth_9', 'mnth_10', 'mnth_11',\n",
      "       'mnth_12', 'season_clean_1', 'season_clean_2', 'season_clean_3',\n",
      "       'season_clean_4', 'weekday_clean_0', 'weekday_clean_1',\n",
      "       'weekday_clean_2', 'weekday_clean_3', 'weekday_clean_4',\n",
      "       'weekday_clean_5', 'weekday_clean_6'],\n",
      "      dtype='object')\n",
      "(417, 42)\n",
      "RECV elimination R^2:  0.8259852829275658\n",
      "Manual elimination R^2:  0.8387698774467733\n",
      "Optimal number of features : 21\n",
      "Best features : Index(['yr', 'holiday', 'weathersit', 'atemp', 'season_clean',\n",
      "       'hum_mean_clean', 'hum_median_clean', 'hum_most_frequent_clean',\n",
      "       'hum_regression_with_10_clean', 'hum_knn_clean',\n",
      "       'hum_random_forest_clean', 'weathersit_2', 'weathersit_3', 'mnth_1',\n",
      "       'mnth_2', 'mnth_7', 'mnth_9', 'mnth_11', 'mnth_12', 'season_clean_2',\n",
      "       'weekday_clean_6'],\n",
      "      dtype='object')\n",
      "(417, 21)\n",
      "Optimal number of features : 42\n",
      "Best features : Index(['yr', 'mnth', 'holiday', 'workingday', 'weathersit', 'atemp',\n",
      "       'windspeed_random_forest_clean', 'price reduction', 'season_clean',\n",
      "       'weekday_clean', 'hum_mean_clean', 'hum_median_clean',\n",
      "       'hum_most_frequent_clean', 'hum_regression_with_10_clean',\n",
      "       'hum_knn_clean', 'hum_random_forest_clean', 'weathersit_1',\n",
      "       'weathersit_2', 'weathersit_3', 'mnth_1', 'mnth_2', 'mnth_3', 'mnth_4',\n",
      "       'mnth_5', 'mnth_6', 'mnth_7', 'mnth_8', 'mnth_9', 'mnth_10', 'mnth_11',\n",
      "       'mnth_12', 'season_clean_1', 'season_clean_2', 'season_clean_3',\n",
      "       'season_clean_4', 'weekday_clean_0', 'weekday_clean_1',\n",
      "       'weekday_clean_2', 'weekday_clean_3', 'weekday_clean_4',\n",
      "       'weekday_clean_5', 'weekday_clean_6'],\n",
      "      dtype='object')\n",
      "(417, 42)\n"
     ]
    },
    {
     "data": {
      "image/png": "[encoded data removed]",
      "text/plain": [
       "<Figure size 432x288 with 1 Axes>"
      ]
     },
     "metadata": {},
     "output_type": "display_data"
    }
   ],
   "source": [
    "# sample/shuffle dataframe\n",
    "# cleaned_df = cleaned_df.sample(frac=1).reset_index(drop=True)\n",
    "\n",
    "def preprocess(cleaned_df):\n",
    "  #imputation\n",
    "  cleaned_df = unvariate_imputation(cleaned_df, 'hum', 'mean')\n",
    "  cleaned_df = unvariate_imputation(cleaned_df, 'hum', 'median')\n",
    "  cleaned_df = unvariate_imputation(cleaned_df, 'hum', 'most_frequent')\n",
    "  # regression imputer\n",
    "  cleaned_df = regression_imputation(cleaned_df, 'hum', 'temp', 10)\n",
    "  cleaned_df = knn_imputation(cleaned_df, 'hum', 'temp', 2)\n",
    "  cleaned_df = random_forest_imputation(cleaned_df, 'hum', [\"season_clean\",\"weathersit\",\"windspeed\",\"mnth\",\"temp\",\"yr\",\"atemp\"])\n",
    "  # wind outlier\n",
    "  cleaned_df = remove_wind_outliers(cleaned_df, 'windspeed')\n",
    "  #windspeed imputation \n",
    "  cleaned_df = random_forest_imputation(cleaned_df, 'windspeed', [\"season_clean\",\"weathersit\",\"mnth\",\"temp\",\"yr\",\"atemp\"])\n",
    "  # encoding\n",
    "  cleaned_df = one_hot_encoder(cleaned_df, 'weathersit')\n",
    "  cleaned_df = one_hot_encoder(cleaned_df, 'mnth')\n",
    "  cleaned_df = one_hot_encoder(cleaned_df, 'season_clean')\n",
    "  cleaned_df = one_hot_encoder(cleaned_df, 'weekday_clean')\n",
    "\n",
    "  # die Spalten price reduction, workingday und holiday sind bereits\n",
    "  # binaere daten. Somit ist ein one hot encoding nicht notwendig\n",
    "      # cleaned_df = one_hot_encoder(cleaned_df, 'price reduction')\n",
    "      # cleaned_df = one_hot_encoder(cleaned_df, 'workingday')\n",
    "      # cleaned_df = one_hot_encoder(cleaned_df, 'holiday')\n",
    "\n",
    "  # drop all unnecessary values\n",
    "  cleaned_df = remove_unnecessary(cleaned_df,['casual', 'registered', 'season', 'weekday', 'hum', 'temp', 'windspeed', 'instant', 'leaflets'])\n",
    "\n",
    "  #normalization\n",
    "  numerical_features = [\"atemp\", 'windspeed_random_forest_clean', 'hum_mean_clean', 'hum_median_clean', 'hum_most_frequent_clean',\n",
    "       'hum_regression_with_10_clean', 'hum_knn_clean',\n",
    "       'hum_random_forest_clean']\n",
    "  # cleaned_df = min_max_scaler(cleaned_df, numerical_features)\n",
    "  # cleaned_df = standard_scaler(cleaned_df, numerical_features)\n",
    "  cleaned_df = robust_scaler(cleaned_df, numerical_features)\n",
    "\n",
    "  for i in range(len(numerical_features)):\n",
    "    pass\n",
    "    # cleaned_df = quantile_transformer(cleaned_df, [numerical_features[i]], 15)\n",
    "  return cleaned_df\n",
    "\n",
    "cleaned_df = preprocess(cleaned_df)\n",
    "\n",
    "cols_to_consider = ['yr', 'mnth', 'holiday','workingday', 'weathersit', 'atemp',\n",
    "       'windspeed_random_forest_clean', 'price reduction', 'date_offset', 'season_clean', \n",
    "       'weekday_clean', 'hum_mean_clean',\n",
    "       'hum_median_clean', 'hum_most_frequent_clean',\n",
    "       'hum_regression_with_10_clean', 'hum_knn_clean',\n",
    "       'hum_random_forest_clean', 'weathersit_1', 'weathersit_2',\n",
    "       'weathersit_3', 'mnth_1', 'mnth_2', 'mnth_3', 'mnth_4', 'mnth_5',\n",
    "       'mnth_6', 'mnth_7', 'mnth_8', 'mnth_9', 'mnth_10', 'mnth_11', 'mnth_12',\n",
    "       'season_clean_1', 'season_clean_2', 'season_clean_3', 'season_clean_4',\n",
    "       'weekday_clean_0', 'weekday_clean_1', 'weekday_clean_2',\n",
    "       'weekday_clean_3', 'weekday_clean_4', 'weekday_clean_5',\n",
    "       'weekday_clean_6'] \n",
    "\n",
    "\n",
    "\n",
    "cols_to_consider_manual = ['yr', 'holiday', 'workingday', 'atemp',\n",
    "       'windspeed_random_forest_clean', 'price reduction', 'date_offset',  \n",
    "       'weekday_clean','hum_random_forest_clean', 'weathersit_1', 'weathersit_2',\n",
    "       'weathersit_3', 'mnth_1', 'mnth_2', 'mnth_3', 'mnth_4', 'mnth_5',\n",
    "       'mnth_6', 'mnth_7', 'mnth_8', 'mnth_9', 'mnth_10', 'mnth_11', 'mnth_12',\n",
    "       'season_clean_1', 'season_clean_2', 'season_clean_3', 'season_clean_4'\n",
    "       ]\n",
    "\n",
    "\n",
    "def testpipeline_rec(cleaned_df, cols_to_consider, clf_lr):\n",
    "  x_train_rfe, x_test_rfe, y_train_rfe, y_test_rfe = rec_feature_elimination(cleaned_df, 0.3, 'cnt', True, cols_to_consider)\n",
    "  print(x_train_rfe.shape)\n",
    "  new_rfe_model = clf_lr.fit(x_train_rfe, y_train_rfe)\n",
    "  return generate_accuracy_and_heatmap(new_rfe_model, x_test_rfe, y_test_rfe)\n",
    "\n",
    "# ranking = rec_feature_elimination(cleaned_df, 0.3, 'cnt', False, cols_to_consider)\n",
    "# ranking.sort_values(by='Ranking')\n",
    "\n",
    "def testpipeline2_recv(cleaned_df, cols_to_consider, clf_lr):\n",
    "  x_train_rfe, x_test_rfe, y_train_rfe, y_test_rfe = rec_feature_elimination_cv(cleaned_df, 5, cols_to_consider, 0.3)\n",
    "  print(x_train_rfe.shape)\n",
    "  new_rfe_model = clf_lr.fit(x_train_rfe, y_train_rfe)\n",
    "  return generate_accuracy_and_heatmap(new_rfe_model, x_test_rfe, y_test_rfe)\n",
    "\n",
    "def testpipeline3_chi_square(cleaned_df, cols_to_consider, clf_lr):\n",
    "  x_train_chi, x_test_chi, y_train, y_test = univariate_feature_selection(cleaned_df, cols_to_consider, 0.3)\n",
    "  print(x_train_rfe.shape)\n",
    "  new_rfe_model = clf_lr.fit(x_train_rfe, y_train_rfe)\n",
    "  return generate_accuracy_and_heatmap(new_rfe_model, x_test_rfe, y_test_rfe)\n",
    "\n",
    "def test_without_method(cleaned_df, cols_to_consider):\n",
    "  X = cleaned_df[cols_to_consider]\n",
    "  y = cleaned_df['cnt']\n",
    "\n",
    "  X_train, X_test, y_train, y_test = train_test_split(X, y, test_size=0.3, random_state=8)\n",
    "\n",
    "  reg = LinearRegression().fit(X_train, y_train)\n",
    "  score_without = reg.score(X_test, y_test)\n",
    "\n",
    "  return score_without\n",
    "\n",
    "\n",
    "print(\"REC elimination R^2: \",testpipeline_rec(cleaned_df, cols_to_consider, clf_lr))\n",
    "print(\"RECV elimination R^2: \",testpipeline2_recv(cleaned_df, cols_to_consider, clf_lr))\n",
    "# print(\"Chi2 elimination R^2: \",testpipeline3_chi_square(cleaned_df, cols_to_consider, clf_lr))\n",
    "print(\"Manual elimination R^2: \",test_without_method(cleaned_df, cols_to_consider_manual))\n",
    "\n",
    "plt.style.use('ggplot')\n",
    "\n",
    "x = ['REC', 'RECV', 'Manual']\n",
    "vals = [testpipeline_rec(cleaned_df, cols_to_consider, clf_lr), testpipeline2_recv(cleaned_df, cols_to_consider, clf_lr),test_without_method(cleaned_df, cols_to_consider_manual)]\n",
    "\n",
    "x_pos = [i for i, _ in enumerate(x)]\n",
    "\n",
    "plt.bar(x_pos, vals, color='green')\n",
    "plt.xlabel(\"Elimination Method\")\n",
    "plt.ylabel(\"R^2\")\n",
    "plt.title(\"Vergleich der Elimierungsmethoden\")\n",
    "\n",
    "plt.xticks(x_pos, x)\n",
    "\n",
    "plt.show()"
   ]
  },
  {
   "cell_type": "markdown",
   "metadata": {
    "id": "18loAsbjORyL"
   },
   "source": [
    "Aus den oberen Daten zeigt sich das unsere Manuelle feature selection keine Signifikant schlechteren Ergebnisse erzielt das **RFE** und **RFEV**"
   ]
  },
  {
   "cell_type": "markdown",
   "metadata": {
    "id": "YcOz3qwawwWs"
   },
   "source": [
    "# Preprocessing Pipeline\n",
    "\n",
    "In dieser Pipeline werden alle Daten verarbeitet. Die Pipeline ist darauf ausgelegt das wir auch \"fremde\" Daten vorverarbeiten koennen um mit diesen unser Model zu testen.\n",
    "\n",
    "\n",
    "---\n",
    "\n",
    "**Hier sollte nochmal was zur Strategie stehen**\n",
    "\n",
    "Random Forest Imputation weil Daten nicht normalisiert sein muessen."
   ]
  },
  {
   "cell_type": "code",
   "execution_count": 24,
   "metadata": {
    "colab": {
     "base_uri": "https://localhost:8080/",
     "height": 572
    },
    "id": "-8SI0qWK6nke",
    "outputId": "5a632380-4329-44c7-a261-e4c62b488105"
   },
   "outputs": [
    {
     "data": {
      "text/html": [
       "<div>\n",
       "<style scoped>\n",
       "    .dataframe tbody tr th:only-of-type {\n",
       "        vertical-align: middle;\n",
       "    }\n",
       "\n",
       "    .dataframe tbody tr th {\n",
       "        vertical-align: top;\n",
       "    }\n",
       "\n",
       "    .dataframe thead th {\n",
       "        text-align: right;\n",
       "    }\n",
       "</style>\n",
       "<table border=\"1\" class=\"dataframe\">\n",
       "  <thead>\n",
       "    <tr style=\"text-align: right;\">\n",
       "      <th></th>\n",
       "      <th>Unnamed: 0</th>\n",
       "      <th>dteday</th>\n",
       "      <th>yr</th>\n",
       "      <th>mnth</th>\n",
       "      <th>holiday</th>\n",
       "      <th>workingday</th>\n",
       "      <th>weathersit</th>\n",
       "      <th>atemp</th>\n",
       "      <th>price reduction</th>\n",
       "      <th>cnt</th>\n",
       "      <th>...</th>\n",
       "      <th>season_clean_2</th>\n",
       "      <th>season_clean_3</th>\n",
       "      <th>season_clean_4</th>\n",
       "      <th>weekday_clean_0</th>\n",
       "      <th>weekday_clean_1</th>\n",
       "      <th>weekday_clean_2</th>\n",
       "      <th>weekday_clean_3</th>\n",
       "      <th>weekday_clean_4</th>\n",
       "      <th>weekday_clean_5</th>\n",
       "      <th>weekday_clean_6</th>\n",
       "    </tr>\n",
       "  </thead>\n",
       "  <tbody>\n",
       "    <tr>\n",
       "      <th>0</th>\n",
       "      <td>0</td>\n",
       "      <td>2011-06-03</td>\n",
       "      <td>0</td>\n",
       "      <td>6</td>\n",
       "      <td>0</td>\n",
       "      <td>1</td>\n",
       "      <td>1</td>\n",
       "      <td>-0.426699</td>\n",
       "      <td>0</td>\n",
       "      <td>5312</td>\n",
       "      <td>...</td>\n",
       "      <td>1</td>\n",
       "      <td>0</td>\n",
       "      <td>0</td>\n",
       "      <td>0</td>\n",
       "      <td>0</td>\n",
       "      <td>0</td>\n",
       "      <td>0</td>\n",
       "      <td>1</td>\n",
       "      <td>0</td>\n",
       "      <td>0</td>\n",
       "    </tr>\n",
       "    <tr>\n",
       "      <th>1</th>\n",
       "      <td>1</td>\n",
       "      <td>2012-11-15</td>\n",
       "      <td>1</td>\n",
       "      <td>11</td>\n",
       "      <td>0</td>\n",
       "      <td>1</td>\n",
       "      <td>2</td>\n",
       "      <td>-4.104375</td>\n",
       "      <td>0</td>\n",
       "      <td>5445</td>\n",
       "      <td>...</td>\n",
       "      <td>0</td>\n",
       "      <td>0</td>\n",
       "      <td>1</td>\n",
       "      <td>0</td>\n",
       "      <td>0</td>\n",
       "      <td>0</td>\n",
       "      <td>1</td>\n",
       "      <td>0</td>\n",
       "      <td>0</td>\n",
       "      <td>0</td>\n",
       "    </tr>\n",
       "    <tr>\n",
       "      <th>2</th>\n",
       "      <td>2</td>\n",
       "      <td>2012-01-03</td>\n",
       "      <td>1</td>\n",
       "      <td>1</td>\n",
       "      <td>0</td>\n",
       "      <td>1</td>\n",
       "      <td>1</td>\n",
       "      <td>-6.879942</td>\n",
       "      <td>0</td>\n",
       "      <td>2236</td>\n",
       "      <td>...</td>\n",
       "      <td>0</td>\n",
       "      <td>0</td>\n",
       "      <td>0</td>\n",
       "      <td>0</td>\n",
       "      <td>1</td>\n",
       "      <td>0</td>\n",
       "      <td>0</td>\n",
       "      <td>0</td>\n",
       "      <td>0</td>\n",
       "      <td>0</td>\n",
       "    </tr>\n",
       "    <tr>\n",
       "      <th>3</th>\n",
       "      <td>3</td>\n",
       "      <td>2012-04-16</td>\n",
       "      <td>1</td>\n",
       "      <td>4</td>\n",
       "      <td>1</td>\n",
       "      <td>0</td>\n",
       "      <td>1</td>\n",
       "      <td>-0.037537</td>\n",
       "      <td>0</td>\n",
       "      <td>6370</td>\n",
       "      <td>...</td>\n",
       "      <td>1</td>\n",
       "      <td>0</td>\n",
       "      <td>0</td>\n",
       "      <td>1</td>\n",
       "      <td>0</td>\n",
       "      <td>0</td>\n",
       "      <td>0</td>\n",
       "      <td>0</td>\n",
       "      <td>0</td>\n",
       "      <td>0</td>\n",
       "    </tr>\n",
       "    <tr>\n",
       "      <th>4</th>\n",
       "      <td>4</td>\n",
       "      <td>2012-03-17</td>\n",
       "      <td>1</td>\n",
       "      <td>3</td>\n",
       "      <td>0</td>\n",
       "      <td>0</td>\n",
       "      <td>2</td>\n",
       "      <td>-1.576137</td>\n",
       "      <td>1</td>\n",
       "      <td>7836</td>\n",
       "      <td>...</td>\n",
       "      <td>0</td>\n",
       "      <td>0</td>\n",
       "      <td>0</td>\n",
       "      <td>0</td>\n",
       "      <td>0</td>\n",
       "      <td>0</td>\n",
       "      <td>0</td>\n",
       "      <td>0</td>\n",
       "      <td>1</td>\n",
       "      <td>0</td>\n",
       "    </tr>\n",
       "    <tr>\n",
       "      <th>5</th>\n",
       "      <td>5</td>\n",
       "      <td>2011-09-14</td>\n",
       "      <td>0</td>\n",
       "      <td>9</td>\n",
       "      <td>0</td>\n",
       "      <td>1</td>\n",
       "      <td>1</td>\n",
       "      <td>0.130145</td>\n",
       "      <td>0</td>\n",
       "      <td>4785</td>\n",
       "      <td>...</td>\n",
       "      <td>0</td>\n",
       "      <td>1</td>\n",
       "      <td>0</td>\n",
       "      <td>0</td>\n",
       "      <td>0</td>\n",
       "      <td>1</td>\n",
       "      <td>0</td>\n",
       "      <td>0</td>\n",
       "      <td>0</td>\n",
       "      <td>0</td>\n",
       "    </tr>\n",
       "    <tr>\n",
       "      <th>6</th>\n",
       "      <td>7</td>\n",
       "      <td>2012-10-04</td>\n",
       "      <td>1</td>\n",
       "      <td>10</td>\n",
       "      <td>0</td>\n",
       "      <td>1</td>\n",
       "      <td>2</td>\n",
       "      <td>-0.134856</td>\n",
       "      <td>0</td>\n",
       "      <td>7328</td>\n",
       "      <td>...</td>\n",
       "      <td>0</td>\n",
       "      <td>0</td>\n",
       "      <td>1</td>\n",
       "      <td>0</td>\n",
       "      <td>0</td>\n",
       "      <td>0</td>\n",
       "      <td>1</td>\n",
       "      <td>0</td>\n",
       "      <td>0</td>\n",
       "      <td>0</td>\n",
       "    </tr>\n",
       "    <tr>\n",
       "      <th>7</th>\n",
       "      <td>8</td>\n",
       "      <td>2011-10-01</td>\n",
       "      <td>0</td>\n",
       "      <td>10</td>\n",
       "      <td>0</td>\n",
       "      <td>0</td>\n",
       "      <td>2</td>\n",
       "      <td>-2.866945</td>\n",
       "      <td>0</td>\n",
       "      <td>2429</td>\n",
       "      <td>...</td>\n",
       "      <td>0</td>\n",
       "      <td>0</td>\n",
       "      <td>1</td>\n",
       "      <td>0</td>\n",
       "      <td>0</td>\n",
       "      <td>0</td>\n",
       "      <td>0</td>\n",
       "      <td>0</td>\n",
       "      <td>1</td>\n",
       "      <td>0</td>\n",
       "    </tr>\n",
       "    <tr>\n",
       "      <th>8</th>\n",
       "      <td>9</td>\n",
       "      <td>2011-05-09</td>\n",
       "      <td>0</td>\n",
       "      <td>5</td>\n",
       "      <td>0</td>\n",
       "      <td>1</td>\n",
       "      <td>1</td>\n",
       "      <td>-1.293283</td>\n",
       "      <td>0</td>\n",
       "      <td>4362</td>\n",
       "      <td>...</td>\n",
       "      <td>1</td>\n",
       "      <td>0</td>\n",
       "      <td>0</td>\n",
       "      <td>1</td>\n",
       "      <td>0</td>\n",
       "      <td>0</td>\n",
       "      <td>0</td>\n",
       "      <td>0</td>\n",
       "      <td>0</td>\n",
       "      <td>0</td>\n",
       "    </tr>\n",
       "    <tr>\n",
       "      <th>9</th>\n",
       "      <td>10</td>\n",
       "      <td>2011-06-24</td>\n",
       "      <td>0</td>\n",
       "      <td>6</td>\n",
       "      <td>0</td>\n",
       "      <td>1</td>\n",
       "      <td>1</td>\n",
       "      <td>0.545786</td>\n",
       "      <td>0</td>\n",
       "      <td>4991</td>\n",
       "      <td>...</td>\n",
       "      <td>0</td>\n",
       "      <td>1</td>\n",
       "      <td>0</td>\n",
       "      <td>0</td>\n",
       "      <td>0</td>\n",
       "      <td>0</td>\n",
       "      <td>0</td>\n",
       "      <td>1</td>\n",
       "      <td>0</td>\n",
       "      <td>0</td>\n",
       "    </tr>\n",
       "  </tbody>\n",
       "</table>\n",
       "<p>10 rows × 46 columns</p>\n",
       "</div>"
      ],
      "text/plain": [
       "   Unnamed: 0     dteday  yr  mnth  holiday  workingday  weathersit     atemp  \\\n",
       "0           0 2011-06-03   0     6        0           1           1 -0.426699   \n",
       "1           1 2012-11-15   1    11        0           1           2 -4.104375   \n",
       "2           2 2012-01-03   1     1        0           1           1 -6.879942   \n",
       "3           3 2012-04-16   1     4        1           0           1 -0.037537   \n",
       "4           4 2012-03-17   1     3        0           0           2 -1.576137   \n",
       "5           5 2011-09-14   0     9        0           1           1  0.130145   \n",
       "6           7 2012-10-04   1    10        0           1           2 -0.134856   \n",
       "7           8 2011-10-01   0    10        0           0           2 -2.866945   \n",
       "8           9 2011-05-09   0     5        0           1           1 -1.293283   \n",
       "9          10 2011-06-24   0     6        0           1           1  0.545786   \n",
       "\n",
       "   price reduction   cnt  ...  season_clean_2  season_clean_3  season_clean_4  \\\n",
       "0                0  5312  ...               1               0               0   \n",
       "1                0  5445  ...               0               0               1   \n",
       "2                0  2236  ...               0               0               0   \n",
       "3                0  6370  ...               1               0               0   \n",
       "4                1  7836  ...               0               0               0   \n",
       "5                0  4785  ...               0               1               0   \n",
       "6                0  7328  ...               0               0               1   \n",
       "7                0  2429  ...               0               0               1   \n",
       "8                0  4362  ...               1               0               0   \n",
       "9                0  4991  ...               0               1               0   \n",
       "\n",
       "   weekday_clean_0  weekday_clean_1  weekday_clean_2  weekday_clean_3  \\\n",
       "0                0                0                0                0   \n",
       "1                0                0                0                1   \n",
       "2                0                1                0                0   \n",
       "3                1                0                0                0   \n",
       "4                0                0                0                0   \n",
       "5                0                0                1                0   \n",
       "6                0                0                0                1   \n",
       "7                0                0                0                0   \n",
       "8                1                0                0                0   \n",
       "9                0                0                0                0   \n",
       "\n",
       "   weekday_clean_4  weekday_clean_5  weekday_clean_6  \n",
       "0                1                0                0  \n",
       "1                0                0                0  \n",
       "2                0                0                0  \n",
       "3                0                0                0  \n",
       "4                0                1                0  \n",
       "5                0                0                0  \n",
       "6                0                0                0  \n",
       "7                0                1                0  \n",
       "8                0                0                0  \n",
       "9                1                0                0  \n",
       "\n",
       "[10 rows x 46 columns]"
      ]
     },
     "execution_count": 24,
     "metadata": {},
     "output_type": "execute_result"
    }
   ],
   "source": [
    "cleaned_df.head(10)"
   ]
  },
  {
   "cell_type": "code",
   "execution_count": 25,
   "metadata": {
    "id": "dlS78Lv3xMij"
   },
   "outputs": [],
   "source": [
    "def preprocess_pipeline(dataframe, cols_to_consider):\n",
    "  # weekday -> weekday_clean\n",
    "  dataframe = weekday_clean(dataframe)\n",
    "  # season -> season_clean + date_offset\n",
    "  dataframe = season_date_offset(dataframe)\n",
    "  # remove outliers (cnt)\n",
    "  dataframe = remove_outlier(dataframe, 'cnt')\n",
    "  # remove outliers (wind)\n",
    "  dataframe = remove_wind_outliers(dataframe, 'windspeed')\n",
    "  # random forest imputation (windspeed)\n",
    "  dataframe = random_forest_imputation(dataframe, 'windspeed', [\"season_clean\",\"weathersit\",\"mnth\",\"atemp\",\"yr\"])\n",
    "  # random forest imputation (hum)\n",
    "  dataframe = random_forest_imputation(dataframe, 'hum', [\"season_clean\",\"weathersit\",\"windspeed_random_forest_clean\",\"mnth\",\"atemp\",\"yr\"])\n",
    "  # one hot encoding (weathersit)\n",
    "  dataframe = one_hot_encoder(dataframe, 'weathersit')  \n",
    "  # one hot encoding (mnth)\n",
    "  dataframe = one_hot_encoder(dataframe, 'mnth')\n",
    "  # one hot encoding (season_clean)\n",
    "  dataframe = one_hot_encoder(dataframe, 'season_clean')\n",
    "  # normalize min max scaler (all numeric values ?)\n",
    "  numerical_features = [\"atemp\", 'windspeed_random_forest_clean', 'hum_random_forest_clean', 'date_offset', 'weekday_clean']\n",
    "  dataframe = min_max_scaler(dataframe, numerical_features)\n",
    "  # Split in X and y for training or testing\n",
    "\n",
    "  X = dataframe[cols_to_consider]\n",
    "  y = dataframe['cnt']\n",
    "  return X, y"
   ]
  },
  {
   "cell_type": "markdown",
   "metadata": {
    "id": "0rAxLY3n9fzZ"
   },
   "source": [
    "### Run the Pipeline"
   ]
  },
  {
   "cell_type": "code",
   "execution_count": 26,
   "metadata": {
    "colab": {
     "base_uri": "https://localhost:8080/"
    },
    "id": "O1zXiWoz9jno",
    "outputId": "e15c3e2e-b0c1-4dce-94ac-47c60741c18d"
   },
   "outputs": [
    {
     "name": "stderr",
     "output_type": "stream",
     "text": [
      "/home/l/anaconda3/envs/datascience/lib/python3.6/site-packages/ipykernel_launcher.py:2: SettingWithCopyWarning:\n",
      "\n",
      "\n",
      "A value is trying to be set on a copy of a slice from a DataFrame.\n",
      "Try using .loc[row_indexer,col_indexer] = value instead\n",
      "\n",
      "See the caveats in the documentation: https://pandas.pydata.org/pandas-docs/stable/user_guide/indexing.html#returning-a-view-versus-a-copy\n",
      "\n",
      "/home/l/anaconda3/envs/datascience/lib/python3.6/site-packages/ipykernel_launcher.py:5: SettingWithCopyWarning:\n",
      "\n",
      "\n",
      "A value is trying to be set on a copy of a slice from a DataFrame.\n",
      "Try using .loc[row_indexer,col_indexer] = value instead\n",
      "\n",
      "See the caveats in the documentation: https://pandas.pydata.org/pandas-docs/stable/user_guide/indexing.html#returning-a-view-versus-a-copy\n",
      "\n",
      "/home/l/anaconda3/envs/datascience/lib/python3.6/site-packages/ipykernel_launcher.py:13: SettingWithCopyWarning:\n",
      "\n",
      "\n",
      "A value is trying to be set on a copy of a slice from a DataFrame.\n",
      "Try using .loc[row_indexer,col_indexer] = value instead\n",
      "\n",
      "See the caveats in the documentation: https://pandas.pydata.org/pandas-docs/stable/user_guide/indexing.html#returning-a-view-versus-a-copy\n",
      "\n"
     ]
    },
    {
     "name": "stdout",
     "output_type": "stream",
     "text": [
      "Outlier Found -- Starting imputation\n",
      "Outlier Found -- Starting imputation\n"
     ]
    },
    {
     "name": "stderr",
     "output_type": "stream",
     "text": [
      "/home/l/anaconda3/envs/datascience/lib/python3.6/site-packages/ipykernel_launcher.py:13: SettingWithCopyWarning:\n",
      "\n",
      "\n",
      "A value is trying to be set on a copy of a slice from a DataFrame.\n",
      "Try using .loc[row_indexer,col_indexer] = value instead\n",
      "\n",
      "See the caveats in the documentation: https://pandas.pydata.org/pandas-docs/stable/user_guide/indexing.html#returning-a-view-versus-a-copy\n",
      "\n"
     ]
    }
   ],
   "source": [
    "cols_to_consider_manual = ['yr', 'holiday', 'workingday', 'atemp',\n",
    "       'windspeed_random_forest_clean', 'date_offset',  \n",
    "       'weekday_clean','hum_random_forest_clean', 'weathersit_1', 'weathersit_2',\n",
    "       'weathersit_3', 'mnth_1', 'mnth_2', 'mnth_3', 'mnth_4', 'mnth_5',\n",
    "       'mnth_6', 'mnth_7', 'mnth_8', 'mnth_9', 'mnth_10', 'mnth_11', 'mnth_12',\n",
    "       'season_clean_1', 'season_clean_2', 'season_clean_3', 'season_clean_4']\n",
    "\n",
    "X, y = preprocess_pipeline(original_df, cols_to_consider_manual)\n",
    "X_train, X_test, y_train, y_test = train_test_split(X, y, test_size=0.3, random_state=8)\n",
    "\n",
    "\n",
    "\n",
    "#X_TEST, y_TEST = preprocess_pipeline(original_kaggle_dataset, cols_to_consider_manual)\n",
    "#X_train, X_test, y_train, y_test = train_test_split(X, y, test_size=0., random_state=8)\n",
    "#reg = LinearRegression().fit(X_train, y_train)\n",
    "#score_without = reg.score(X_TEST, y_TEST)\n",
    "#print(score_without)"
   ]
  },
  {
   "cell_type": "markdown",
   "metadata": {
    "id": "GgqwSAa9O5vk"
   },
   "source": [
    "# Grid Search Polynomial Regression"
   ]
  },
  {
   "cell_type": "code",
   "execution_count": 27,
   "metadata": {
    "colab": {
     "base_uri": "https://localhost:8080/",
     "height": 395
    },
    "id": "-Rh-K5IhOyIU",
    "outputId": "d1e68b9f-2bd4-4fa1-c39e-e4c845aa38b4"
   },
   "outputs": [
    {
     "name": "stdout",
     "output_type": "stream",
     "text": [
      "0.8348625179099252\n",
      "{'mean_fit_time': array([0.00331446, 0.03116152, 0.16055297, 0.97716313]), 'std_fit_time': array([0.00028419, 0.00993392, 0.0421679 , 0.10996532]), 'mean_score_time': array([0.00132245, 0.0019787 , 0.00253591, 0.00338927]), 'std_score_time': array([0.00016178, 0.00050561, 0.00081562, 0.00170396]), 'param_poly__degree': masked_array(data=[1, 2, 3, 4],\n",
      "             mask=[False, False, False, False],\n",
      "       fill_value='?',\n",
      "            dtype=object), 'params': [{'poly__degree': 1}, {'poly__degree': 2}, {'poly__degree': 3}, {'poly__degree': 4}], 'split0_test_score': array([ -422500.        ,  -125316.        ,   -80559.99612166,\n",
      "       -2464374.01783599]), 'split1_test_score': array([  -361201.        ,    -23870.25      , -12426759.56774402,\n",
      "        -3003058.82955978]), 'split2_test_score': array([-1315609.        , -1595169.        ,   -70655.47499433,\n",
      "       -7295635.95711224]), 'split3_test_score': array([-1.17534325e+02, -4.47800995e+27, -8.83566657e+06, -9.17232831e+06]), 'split4_test_score': array([  -141376.        ,    -69169.        , -11810042.58213212,\n",
      "         -885515.00693501]), 'split5_test_score': array([-1.15562500e+06, -1.52100000e+03, -2.82504286e+07, -7.50792288e+05]), 'split6_test_score': array([ -12100.        ,  -68644.        ,  -57337.60343697,\n",
      "       -135801.94031424]), 'split7_test_score': array([-272875.640625  ,  -71289.        ,  -44013.07585922,\n",
      "       -716502.80482461]), 'split8_test_score': array([ -452929.        , -1515361.        ,  -328839.65959308,\n",
      "         -10059.40882658]), 'split9_test_score': array([-142129.        ,  -10201.        , -696120.73510408,\n",
      "       -768065.27753666]), 'split10_test_score': array([ -3249.        , -26896.        ,    -59.57335087,  -9721.30219867]), 'split11_test_score': array([ -9610000.        ,  -3006756.        , -14344160.91722766,\n",
      "        -4058871.63407821]), 'split12_test_score': array([-1.63840000e+04, -1.24609000e+05, -1.43699148e+08, -3.72514639e+05]), 'split13_test_score': array([  -86150.56408173,  -239121.        , -1560831.85924683,\n",
      "       -1097121.67975433]), 'split14_test_score': array([  -48841.        ,  -253953.00390625, -1148899.77464507,\n",
      "        -654747.03611018]), 'split15_test_score': array([  -127806.25      ,   -121801.        , -15851298.46150145,\n",
      "        -1610940.22007369]), 'split16_test_score': array([-108900.        ,  -84100.        , -379089.90625603,\n",
      "        -89546.83723511]), 'split17_test_score': array([ -136161.        ,  -173889.        , -1922850.27587315,\n",
      "       -2288360.57368459]), 'split18_test_score': array([-195364.        ,  -50176.        ,   -3787.93425622,\n",
      "          -332.42250078]), 'split19_test_score': array([-1.22500000e+03, -7.22500000e+03, -1.67596042e+06, -2.50029656e+05]), 'split20_test_score': array([-2.66256000e+05, -1.44000000e+02, -1.71698605e+02, -9.63041267e+04]), 'split21_test_score': array([-815409.        , -861184.        , -810420.2664395 ,\n",
      "       -164054.77950527]), 'split22_test_score': array([ -30723.51660156, -838140.25      , -239762.65422612,\n",
      "       -731839.55077666]), 'split23_test_score': array([ -202500.        ,   -12544.        , -3113380.61150117,\n",
      "         -71853.91923096]), 'split24_test_score': array([-1132096.        ,  -352836.        ,  -957852.54554223,\n",
      "        -829987.08889191]), 'split25_test_score': array([-76471.88995816, -48400.        ,  -2337.89093769, -48985.53738926]), 'split26_test_score': array([ -318942.5625    ,   -29929.        , -3376526.63060274,\n",
      "       -2283376.5094715 ]), 'split27_test_score': array([-5.73049000e+05, -1.05267802e+07, -6.31878866e+07, -3.52297628e+04]), 'split28_test_score': array([ -1061062.53761538,   -442225.        , -15708683.80133525,\n",
      "       -12154532.34036012]), 'split29_test_score': array([-114244.        ,   -1444.        ,  -71744.68096189,\n",
      "        -63819.20384001]), 'split30_test_score': array([-390990.99285084,    -812.25      ,  -42700.11458232,\n",
      "        -98034.36887094]), 'split31_test_score': array([ -677329.        ,  -339889.        ,  -420627.85132769,\n",
      "       -3415766.04150649]), 'split32_test_score': array([-1.16208400e+06, -3.17946029e+27, -1.50108012e+03, -3.35910533e+06]), 'split33_test_score': array([-4.20250000e+04, -2.91600000e+03, -1.93179172e+07, -6.34701842e+06]), 'split34_test_score': array([-1.39896192e+00, -5.25625000e+05, -1.43436746e+05, -1.90095546e+04]), 'split35_test_score': array([-116451.5625    ,  -62500.        , -587948.15495512,\n",
      "       -398241.18410083]), 'split36_test_score': array([-6.24100000e+05, -4.90000000e+03, -1.15826417e+07, -5.52648867e+06]), 'split37_test_score': array([-1.84795946e+02, -5.65504000e+05, -4.54779431e+01, -4.79219608e+04]), 'split38_test_score': array([ -10404.        ,  -23066.015625  , -171211.6857523 ,\n",
      "        -57477.70552535]), 'split39_test_score': array([-5.65504000e+05, -4.57960000e+04, -2.21419386e+06, -4.87747072e-02]), 'split40_test_score': array([-6807437.79709988,  -781456.        ,  -710134.42993275,\n",
      "        -317729.34478269]), 'split41_test_score': array([   -62500.        ,   -828100.        , -12015071.03290191,\n",
      "        -1457249.03487725]), 'split42_test_score': array([-112343.52377206, -101761.        , -139270.77647497,\n",
      "       -375707.34886035]), 'split43_test_score': array([ -305809.        ,   -66049.        , -4303071.39866308,\n",
      "       -5053074.75959535]), 'split44_test_score': array([ -36481.        ,  -11449.        , -222225.94386358,\n",
      "       -699590.05709151]), 'split45_test_score': array([  -42165.01167239,   -77841.        , -2544383.05546904,\n",
      "          -5822.3272795 ]), 'split46_test_score': array([-558009.        , -100489.        , -138665.15315636,\n",
      "         -2419.59367752]), 'split47_test_score': array([-395609.23167913, -719104.        ,  -25573.46226515,\n",
      "       -993455.71647732]), 'split48_test_score': array([-140063.0625    ,  -24025.        , -758482.809812  ,\n",
      "       -395942.75707378]), 'split49_test_score': array([ -567791.68397522,   -24258.0625    , -2291569.58497542,\n",
      "       -1386044.03948389]), 'split50_test_score': array([  -93636.        ,  -155236.        ,  -635861.72508448,\n",
      "       -2622853.08792429]), 'split51_test_score': array([ -1993744.        ,   -280900.        , -14680386.65670067,\n",
      "        -3572071.37129338]), 'split52_test_score': array([-436921.        , -463761.        , -135352.96495201,\n",
      "         -4036.05052856]), 'split53_test_score': array([  -755161.        ,   -257049.        , -15024251.81902784,\n",
      "        -6883861.31962908]), 'split54_test_score': array([-9.92250000e+04, -1.66464000e+05, -6.74500731e+03, -7.81258643e+06]), 'split55_test_score': array([-182862.39195989, -263169.        ,  -69582.37941567,\n",
      "       -281141.70683219]), 'split56_test_score': array([ -3490719.68471577, -12355225.        ,    -22929.02116254,\n",
      "          -50553.3332099 ]), 'split57_test_score': array([ -119716.        ,   -36100.        , -1060289.13349416,\n",
      "       -3080858.3534524 ]), 'split58_test_score': array([  -172225.        ,    -82369.        , -11769007.90646932,\n",
      "        -4006464.56657892]), 'split59_test_score': array([ -13689.        , -502681.        ,  -49350.18732779,\n",
      "        -63487.62532674]), 'split60_test_score': array([ -848241.        ,    -9025.        , -1555375.16554498,\n",
      "         -36229.20633256]), 'split61_test_score': array([-2.50000000e-01, -5.76081000e+05, -8.21390416e+06, -2.63747267e+06]), 'split62_test_score': array([ -570025.        ,  -203401.        , -7378845.28424016,\n",
      "        -151846.72027292]), 'split63_test_score': array([  -144.        , -91809.        , -99658.24861511,   -376.74176147]), 'split64_test_score': array([  -660969.        ,   -212521.        , -15554867.93666091,\n",
      "        -6601411.69096895]), 'split65_test_score': array([-1.60100615e+06, -1.21000000e+02, -4.77802001e+04, -7.13491144e+04]), 'split66_test_score': array([-1.30153661e+05, -4.90000000e+01, -2.28552822e+05, -2.97026054e+04]), 'split67_test_score': array([-487204.        ,  -25600.        ,   -5648.12267609,\n",
      "         -2304.94709384]), 'split68_test_score': array([-529984.        , -163216.        , -299633.58016629,\n",
      "        -10978.94728223]), 'split69_test_score': array([-2.87732749e+05, -3.24900000e+03, -8.30970828e+04, -9.72991373e+01]), 'split70_test_score': array([ -427716.        ,  -662596.        , -3705502.04795055,\n",
      "       -3133023.80589526]), 'split71_test_score': array([ -188452.50232728, -1096209.        , -4561572.2420375 ,\n",
      "        -391606.93127683]), 'split72_test_score': array([  -89782.1989032 ,  -191844.        , -1338102.58926076,\n",
      "        -644049.02917522]), 'split73_test_score': array([-430336.        ,  -21316.        ,    -646.79420188,\n",
      "       -183417.29022069]), 'split74_test_score': array([ -26244.        ,  -48841.        , -191355.17982301,\n",
      "       -104760.2223391 ]), 'split75_test_score': array([  -12321.        ,   -29241.        , -2272161.78931959,\n",
      "        -656736.57045639]), 'split76_test_score': array([  -54756.        , -3161284.        ,   -20239.35241989,\n",
      "         -93344.40768253]), 'split77_test_score': array([-115260.25      , -161604.        , -283362.76339216,\n",
      "       -770704.26536408]), 'split78_test_score': array([   -32761.        ,   -223729.        , -28031623.2924564 ,\n",
      "         -793606.69251882]), 'split79_test_score': array([-108076.2351568 ,   -9801.        ,    -904.07453317,\n",
      "        -75709.41041421]), 'split80_test_score': array([-163455.13080336,   -2304.        , -493003.17737458,\n",
      "        -17779.81255935]), 'split81_test_score': array([-1.13035733e+07, -3.14692741e+29, -2.06167253e+05, -2.43610174e+05]), 'split82_test_score': array([ -141376.        ,   -19881.        , -1085974.33606529,\n",
      "        -823945.12630622]), 'split83_test_score': array([-198025.        , -251001.        , -554709.47105051,\n",
      "        -11780.99453476]), 'split84_test_score': array([ -207025.        ,  -287296.        , -1370031.71952568,\n",
      "         -42827.8093273 ]), 'split85_test_score': array([-1.79560000e+04, -2.56036000e+05, -4.14046244e+07, -1.99926283e+06]), 'split86_test_score': array([-3.60000000e+01, -1.48840000e+04, -2.65481505e+04, -4.25180521e+04]), 'split87_test_score': array([-1.15600000e+05, -1.22102500e+04, -1.23708909e+07, -1.33383138e+07]), 'split88_test_score': array([  -87699.50094276, -1232100.        ,   -49844.03093206,\n",
      "        -122053.21461106]), 'split89_test_score': array([ -528529.        , -1466521.        ,   -28464.136994  ,\n",
      "          -9195.25326435]), 'split90_test_score': array([  -923521.        ,   -116622.25      , -11108904.4308557 ,\n",
      "         -838428.87771608]), 'split91_test_score': array([ -40886.56545806, -627264.        , -430560.98796582,\n",
      "       -315835.3438167 ]), 'split92_test_score': array([-1274262.37742541, -1272384.        , -2374679.87736548,\n",
      "       -3715556.07658614]), 'split93_test_score': array([-7.10274005e+04, -6.97225000e+03, -7.98565141e+06, -3.38334870e+05]), 'split94_test_score': array([-1.52658002e+06, -5.75520100e+06, -6.66887814e+07, -3.03627011e+03]), 'split95_test_score': array([  -1313.07776366,   -5776.        , -157296.80677138,\n",
      "       -629629.6466091 ]), 'split96_test_score': array([  -2025.        ,  -63001.        , -204541.99882151,\n",
      "         -2756.94000279]), 'split97_test_score': array([  -14400.        ,  -389376.        , -8604103.92718013,\n",
      "       -8375941.00356507]), 'split98_test_score': array([-38512.54133805, -44944.        , -17774.23506075, -19269.43024657]), 'split99_test_score': array([-6.56100000e+03, -5.02681000e+05, -1.09915110e+06, -9.68098252e+06]), 'split100_test_score': array([-1.02400000e+03, -1.56813006e+06, -6.74630322e+06, -1.07276672e+05]), 'split101_test_score': array([  -10404.        ,   -47524.        , -2465445.17241756,\n",
      "       -1400434.24862609]), 'split102_test_score': array([  -77284.        ,  -538756.        ,  -592439.74219544,\n",
      "       -1234357.78043481]), 'split103_test_score': array([  -812044.62605829,   -511225.        , -60828671.2034137 ,\n",
      "       -14809962.3653964 ]), 'split104_test_score': array([-1.83138430e+05, -3.48100000e+03, -1.46065297e+07, -6.01471842e+06]), 'split105_test_score': array([   -51894.75537917,   -108241.        ,  -9934913.68893876,\n",
      "       -19590674.95265561]), 'split106_test_score': array([ -685584.        ,  -678976.        , -1604385.72915029,\n",
      "       -1091781.21849992]), 'split107_test_score': array([   -52274.82693676, -12229009.        ,    -13121.83361876,\n",
      "          -40588.35129693]), 'split108_test_score': array([-1.08639319e+06, -1.08900000e+03, -3.23217475e+06, -9.04794947e+06]), 'split109_test_score': array([-6.27264000e+05, -3.94871165e+27, -1.89085531e+07, -1.17989760e+07]), 'split110_test_score': array([  -109561.        ,   -484416.        , -18704348.51381209,\n",
      "       -10297874.36212987]), 'split111_test_score': array([-1.57960006e+05, -9.98560000e+04, -1.50752809e+07, -1.00157233e+04]), 'split112_test_score': array([-150182.25467074,   -2401.        , -191886.0245069 ,\n",
      "        -29696.05251595]), 'split113_test_score': array([ -5607424.        ,   -451584.        , -13193379.71310482,\n",
      "        -1427845.55548705]), 'split114_test_score': array([ -400240.01155981,  -170569.        ,  -930830.28986962,\n",
      "       -1821181.71579227]), 'split115_test_score': array([  -71690.0625    ,   -10125.390625  , -3019865.48488476,\n",
      "        -533008.95544909]), 'split116_test_score': array([  -69010.62237068,   -13983.0625    , -1577495.47516045,\n",
      "        -551641.85545475]), 'split117_test_score': array([ -378225.        ,  -613089.        , -1298728.66321074,\n",
      "        -487138.39684703]), 'split118_test_score': array([-369664.        , -519300.390625  , -247593.10464205,\n",
      "       -448876.33646602]), 'split119_test_score': array([-1690000.        ,  -345744.        ,    -2635.17155002,\n",
      "        -623059.97156156]), 'split120_test_score': array([ -297025.        , -1117249.        ,  -202569.09738356,\n",
      "        -347528.35070987]), 'split121_test_score': array([-1.65649000e+05, -1.48225000e+05, -1.80723466e+03, -6.15249368e+06]), 'split122_test_score': array([ -168921.        ,  -140625.        , -1474775.67667344,\n",
      "        -301165.06606138]), 'split123_test_score': array([  -50176.        ,   -30276.        , -5887749.02817879,\n",
      "       -4877898.7718115 ]), 'split124_test_score': array([  -761678.47023788,    -71656.59765625, -11392715.02805214,\n",
      "        -1023873.76911584]), 'split125_test_score': array([-1.02136289e+04, -1.36161000e+05, -5.51481103e+07, -4.71863101e+06]), 'split126_test_score': array([ -567009.        ,   -12432.25      , -3027485.62951983,\n",
      "        -354667.82653603]), 'split127_test_score': array([-188356.        ,    -676.        , -604404.70974263,\n",
      "       -235558.06246262]), 'split128_test_score': array([  -4356.        , -101124.        , -125931.31083545,\n",
      "        -98795.72652414]), 'split129_test_score': array([-3.90852900e+06, -4.87949598e+29, -1.16883414e+07, -7.30899375e+06]), 'split130_test_score': array([   -9604.        ,   -21609.        ,  -375054.03868648,\n",
      "       -1125950.60584862]), 'split131_test_score': array([-423709.45806885, -435600.        , -228744.83368339,\n",
      "         -1538.66064595]), 'split132_test_score': array([-2004364.37957076,   -21197.54003906,    -3882.78910619,\n",
      "        -183345.40723551]), 'split133_test_score': array([ -86436.        , -250250.0625    , -235515.22738534,\n",
      "       -480166.81735837]), 'split134_test_score': array([-4.62250000e+04, -2.72250000e+04, -2.03170388e+06, -4.16424051e+02]), 'split135_test_score': array([  -10404.        ,    -5476.        , -3145926.99497351,\n",
      "        -284997.76970353]), 'split136_test_score': array([   -30.08211276,  -3600.        ,  -1309.73568347, -17428.58513072]), 'split137_test_score': array([ -76176.        ,  -21904.        , -797419.53823749,\n",
      "       -620720.68864358]), 'split138_test_score': array([ -104981.75767906,   -19460.25      ,  -957212.53844345,\n",
      "       -1323507.80297773]), 'split139_test_score': array([-2.49012610e+05, -1.12896000e+05, -5.71832094e+03, -4.68470992e+01]), 'split140_test_score': array([-5198400.        ,  -937024.        , -1173451.39172668,\n",
      "        -435017.79176156]), 'split141_test_score': array([  -239121.        ,   -136161.        , -22315655.22993631,\n",
      "        -2474693.36251924]), 'split142_test_score': array([-3.96010000e+04, -8.41000000e+02, -3.58010732e+05, -1.17090921e+06]), 'split143_test_score': array([ -112091.57175071,  -461041.        ,  -342402.53914774,\n",
      "       -1092140.1554579 ]), 'split144_test_score': array([-241081.        , -375769.        ,   -1610.03928273,\n",
      "         -1286.72115476]), 'split145_test_score': array([ -106276.        ,  -180625.        , -2224168.34831526,\n",
      "        -976841.98204991]), 'split146_test_score': array([   -9216.        ,  -577600.        , -5306749.81435895,\n",
      "        -316415.39614945]), 'split147_test_score': array([  -22500.        ,  -174724.        , -9513052.19527227,\n",
      "       -2924528.83067001]), 'split148_test_score': array([ -40804.        , -209764.        ,   -1134.28634732,\n",
      "       -265689.46265045]), 'split149_test_score': array([-2093809.        ,   -95481.        ,  -453535.82825358,\n",
      "        -129910.10837566]), 'split150_test_score': array([ -2030760.58980438,   -933156.        , -73575981.13129279,\n",
      "         -553648.49201978]), 'split151_test_score': array([  -484.        ,  -1444.        , -79148.19195238, -52298.17601435]), 'split152_test_score': array([ -176400.        ,   -85264.        , -2027872.54751114,\n",
      "        -878937.92743567]), 'split153_test_score': array([ -421850.25      ,  -660969.        , -2591145.81511999,\n",
      "        -479969.28733938]), 'split154_test_score': array([  -606841.        ,   -491401.        , -24167461.55006906,\n",
      "        -2802162.66496858]), 'split155_test_score': array([-126025.        , -982081.        , -111511.59495847,\n",
      "        -63352.23237261]), 'split156_test_score': array([ -27889.        ,  -67081.        , -336441.08940171,\n",
      "        -48128.15010845]), 'split157_test_score': array([-3.25950236e+03, -3.93625600e+06, -2.12349307e+06, -7.08063754e+05]), 'split158_test_score': array([ -62001.        , -224676.        ,  -20399.51655545,\n",
      "        -89626.24724237]), 'split159_test_score': array([  -64516.        , -1811716.        , -3391755.9418751 ,\n",
      "       -7969573.85821778]), 'split160_test_score': array([  -13225.        ,  -156025.        , -9434908.51443211,\n",
      "        -959924.60028506]), 'split161_test_score': array([-9467929.        , -6817321.        , -1504766.50894085,\n",
      "       -1006690.26759219]), 'split162_test_score': array([ -219961.        ,  -275625.        , -1913255.74429502,\n",
      "        -363630.73354683]), 'split163_test_score': array([-104324.87135747,  -29241.        ,  -10358.6582865 ,\n",
      "          -915.33222078]), 'split164_test_score': array([-296519.01794057,  -96100.        ,  -13148.84986636,\n",
      "       -147547.53908761]), 'split165_test_score': array([ -505125.39099741,  -103041.        , -2370312.11750526,\n",
      "          -9462.91166955]), 'split166_test_score': array([-3.30625000e+05, -1.00000000e+02, -1.63998186e+05, -1.84822771e+05]), 'split167_test_score': array([ -209764.        ,   -30976.        , -1840684.3343721 ,\n",
      "       -1294898.20108508]), 'split168_test_score': array([  -65536.        ,   -98596.        ,  -334109.42630987,\n",
      "       -1732334.54607959]), 'split169_test_score': array([-185761.        , -148225.        ,  -12347.40290256,\n",
      "        -55348.92678476]), 'split170_test_score': array([ -63504.        ,  -67600.        , -198174.64327266,\n",
      "       -180839.33758217]), 'split171_test_score': array([  -39800.25      , -1234321.        , -3890453.1793804 ,\n",
      "        -166192.48788503]), 'split172_test_score': array([-2439844.        ,  -343396.        ,  -587964.67098955,\n",
      "         -99184.10341928]), 'split173_test_score': array([ -334024.30617947,  -219141.015625  , -8892399.75187836,\n",
      "       -1666045.17788003]), 'split174_test_score': array([ -786769.        ,   -73441.        ,  -398244.39286991,\n",
      "       -2368771.0720375 ]), 'split175_test_score': array([  -52098.0625    ,  -114244.        , -1094165.28434905,\n",
      "        -146574.01571743]), 'split176_test_score': array([   -33124.        ,    -31684.        , -11588280.91185668,\n",
      "          -71346.89963147]), 'split177_test_score': array([-5.47600000e+03, -1.15562500e+04, -7.89305945e+06, -1.00461770e+06]), 'split178_test_score': array([-2.27529000e+05, -1.00489000e+05, -1.39689195e+04, -6.51313121e+00]), 'split179_test_score': array([-7.67886369e+05, -5.70457135e+30, -2.87340895e+07, -2.09532706e+07]), 'split180_test_score': array([-1036324.        ,   -14042.25      , -4065741.47220927,\n",
      "       -1060673.80941032]), 'split181_test_score': array([ -483900.15202098,  -147456.        , -6018231.3523958 ,\n",
      "        -409337.1779431 ]), 'split182_test_score': array([ -418489.38715716, -1179396.        ,   -36306.73250499,\n",
      "         -39397.13139833]), 'split183_test_score': array([-4231249.        , -3591025.        , -5802428.98035374,\n",
      "       -2182678.90805   ]), 'split184_test_score': array([-1000000.        ,    -2970.25      ,  -484680.32326132,\n",
      "         -58396.4253245 ]), 'split185_test_score': array([-4.72497964e+04, -4.90000000e+03, -1.61218964e+07, -1.49373648e+06]), 'split186_test_score': array([ -534361.        ,  -552049.        , -8614630.33335923,\n",
      "       -4554697.76999405]), 'split187_test_score': array([  -18097.6912286 ,   -18496.        , -2000043.52330488,\n",
      "        -283173.79154599]), 'split188_test_score': array([  -4431.75456051, -100489.        , -495753.87988176,\n",
      "       -729836.77512976]), 'split189_test_score': array([-303184.42114063,  -54289.        ,  -40704.9579839 ,\n",
      "        -46367.80987823]), 'split190_test_score': array([-1.42555840e+03, -3.71525625e+04, -8.78367209e+06, -1.95597429e+06]), 'split191_test_score': array([ -20736.        ,  -60762.25      , -339511.3520092 ,\n",
      "       -365625.78715952]), 'split192_test_score': array([-1.64836000e+05, -2.20900000e+03, -5.36762857e+06, -3.23777544e+06]), 'split193_test_score': array([ -270957.77197863,  -972196.        , -8127942.14532867,\n",
      "       -3317580.49027849]), 'split194_test_score': array([-1.03823272e+04, -7.78410000e+04, -3.35042779e+01, -2.67448936e+05]), 'split195_test_score': array([ -516961.        ,  -319225.        , -9872397.35814495,\n",
      "       -1460588.20153528]), 'split196_test_score': array([-3.10816900e+06, -1.83805126e+07, -1.80525460e+08, -8.58896289e+06]), 'split197_test_score': array([ -355216.        ,   -19600.        , -4713773.82861739,\n",
      "       -6634752.16850444]), 'split198_test_score': array([-5.68858420e+05, -1.44400000e+03, -2.97096311e+06, -2.92892190e+03]), 'split199_test_score': array([-2.30400000e+03, -7.59002500e+04, -6.77477322e+06, -7.16410580e+04]), 'split200_test_score': array([-124609.        , -208849.        , -476810.08122254,\n",
      "         -6855.83477831]), 'split201_test_score': array([  -87616.        , -1052676.        ,  -193033.38716161,\n",
      "       -1058047.46841313]), 'split202_test_score': array([-519412.43501409, -159201.        , -261562.29740238,\n",
      "        -31453.51082376]), 'split203_test_score': array([-8.99802228e+05, -7.29000000e+02, -1.82969761e+05, -2.47594008e+05]), 'split204_test_score': array([ -187489.        ,   -39601.        , -5900132.1642576 ,\n",
      "        -159964.45992197]), 'split205_test_score': array([  -82116.74515614,   -30625.        , -4467187.96182314,\n",
      "        -547335.28579663]), 'split206_test_score': array([-3.18096000e+05, -6.55797641e+28, -2.87963466e+06, -2.43893630e+06]), 'split207_test_score': array([-4.51282180e+01, -3.42225000e+03, -5.06217605e+04, -1.99756962e+04]), 'split208_test_score': array([ -395641.        ,  -106929.        , -3127947.36848787,\n",
      "        -468835.15957134]), 'split209_test_score': array([  -308892.56047783,   -183612.25      , -15290208.0353673 ,\n",
      "         -562273.32810239]), 'split210_test_score': array([-6.96960000e+04, -6.72400000e+03, -1.57334484e+07, -1.51726695e+06]), 'split211_test_score': array([ -328329.        ,  -984064.        , -1377645.03962543,\n",
      "       -1157153.5112266 ]), 'split212_test_score': array([-4.41000000e+02, -7.22500000e+03, -6.83400638e+05, -9.63855743e+04]), 'split213_test_score': array([-41209.        , -73441.        , -14887.99628357, -52727.46338625]), 'split214_test_score': array([ -265798.47099106,  -831744.        , -4647954.20779724,\n",
      "       -1427377.28760128]), 'split215_test_score': array([-1.02010000e+04, -5.29000000e+02, -1.47891360e+06, -3.39390294e+05]), 'split216_test_score': array([   -55696.        ,    -57600.        , -11398474.19028729,\n",
      "        -5064287.82754054]), 'split217_test_score': array([-1671849.        ,  -361201.        ,  -433134.39480181,\n",
      "          -3862.52318446]), 'split218_test_score': array([-2.70400000e+03, -3.18096000e+05, -3.83505971e+06, -4.31711305e+06]), 'split219_test_score': array([-421201.        , -455625.        , -735083.20932571,\n",
      "       -100634.23108861]), 'split220_test_score': array([ -297025.        , -1292769.        , -5720365.59001951,\n",
      "        -692958.63258289]), 'split221_test_score': array([ -303601.        ,    -1521.        , -1059908.2001654 ,\n",
      "       -1038937.33478092]), 'split222_test_score': array([-318096.       ,  -69696.       ,  -10753.1136056, -342925.2713714]), 'split223_test_score': array([-148225.        ,  -19881.        , -738264.31068906,\n",
      "       -287006.64486654]), 'split224_test_score': array([ -12828.51088264, -288503.265625  , -255657.83002381,\n",
      "       -715387.41892755]), 'split225_test_score': array([ -724201.        , -7612081.        ,  -142295.20334345,\n",
      "        -828068.1502358 ]), 'split226_test_score': array([ -461316.88500977,  -210681.        , -4177988.76637924,\n",
      "       -2067939.06618693]), 'split227_test_score': array([-1.85761000e+05, -7.92100000e+03, -1.94200498e+07, -1.18745097e+06]), 'split228_test_score': array([   -28030.82326111,   -265225.        , -16155595.20299239,\n",
      "       -16686756.32476539]), 'split229_test_score': array([-1.40450829e+05, -2.04490000e+04, -1.22230278e+04, -8.91659866e+01]), 'split230_test_score': array([-9.02500000e+03, -2.10250000e+04, -2.54284307e+07, -1.94180299e+06]), 'split231_test_score': array([-161918.83687991,   -7056.        ,  -54078.3651553 ,\n",
      "       -262581.42553957]), 'split232_test_score': array([-2168346.65676483,  -801025.        ,  -154260.84805692,\n",
      "        -409470.81355747]), 'split233_test_score': array([-1.09202500e+06, -5.67009000e+05, -4.90501413e+02, -3.00192999e+05]), 'split234_test_score': array([  -19044.        , -1837380.25      , -4377729.97430198,\n",
      "       -5657837.37999327]), 'split235_test_score': array([ -51076.        , -306916.        ,  -82687.2334111 ,\n",
      "        -68805.03725817]), 'split236_test_score': array([ -1772337.30300971,  -1697809.        , -17964109.5249991 ,\n",
      "        -4136150.34246201]), 'split237_test_score': array([-3.67236000e+05, -2.71520217e+30, -1.79087301e+06, -6.95652788e+05]), 'split238_test_score': array([-1.27521828e+04, -1.60000000e+03, -2.14489195e+07, -9.16236581e+05]), 'split239_test_score': array([  -16384.        ,  -410881.        , -2656582.76050458,\n",
      "        -399613.78289911]), 'split240_test_score': array([  -21316.        ,  -338724.        ,  -168936.30636602,\n",
      "       -1018386.34552098]), 'split241_test_score': array([ -84535.5625    ,  -73441.        , -291786.836445  ,\n",
      "       -363035.20138888]), 'split242_test_score': array([ -611524.        ,  -926406.25      , -4818590.27703839,\n",
      "       -1700934.02016454]), 'split243_test_score': array([-297064.67218205, -300304.        , -151286.27965793,\n",
      "       -242105.08908883]), 'split244_test_score': array([ -12769.        , -191905.59869385,  -57207.97010997,\n",
      "        -44232.58394391]), 'split245_test_score': array([ -544802.41164721,  -226576.        , -1288826.10309966,\n",
      "          -6518.70935778]), 'split246_test_score': array([-2.28614400e+06, -1.70563600e+06, -3.23235714e+05, -1.42366036e+03]), 'split247_test_score': array([  -76176.        ,  -556516.        , -3193953.38566398,\n",
      "       -2130963.77833887]), 'split248_test_score': array([ -793198.22296358, -1329409.        ,  -490079.61950269,\n",
      "       -6657136.18570198]), 'split249_test_score': array([   -1369.        ,  -495616.        ,  -804857.76561522,\n",
      "       -1300610.0554241 ]), 'split250_test_score': array([-1890625.        , -1671849.        , -3929057.53212461,\n",
      "       -1322924.98119168]), 'split251_test_score': array([ -549322.53357792,  -131406.25      , -2159940.31332907,\n",
      "       -1448188.63050487]), 'split252_test_score': array([-9.70816494e+01, -1.00000000e+02, -7.28030076e+05, -1.08401769e+05]), 'split253_test_score': array([-1.61893169e+07, -2.01871106e+30, -1.57111302e+07, -1.82192888e+07]), 'split254_test_score': array([-379876.97392342,   -4096.        , -195874.44764123,\n",
      "       -959605.44312977]), 'split255_test_score': array([-221317.87423481, -155236.        , -119634.08941087,\n",
      "        -33268.37905963]), 'split256_test_score': array([-281961.        ,   -3937.5625    , -188097.41323552,\n",
      "       -481718.8638498 ]), 'split257_test_score': array([-4372281.        ,   -12544.        ,   -71495.24012369,\n",
      "          -9018.35438439]), 'split258_test_score': array([-1181569.       ,  -149769.       , -3206706.6325913,\n",
      "        -413190.9766247]), 'split259_test_score': array([-3.27663868e+01, -8.83600000e+03, -1.17363676e+05, -3.38750423e+03]), 'split260_test_score': array([-1.26362744e+04, -4.63080250e+05, -5.19963502e+07, -7.64053456e+06]), 'split261_test_score': array([-288068.91204917,    -625.        , -211628.27114988,\n",
      "        -36296.63278312]), 'split262_test_score': array([-1.43613128e+06, -1.62817600e+06, -6.65811898e+05, -3.37506396e+02]), 'split263_test_score': array([-7.12356100e+06, -5.11561127e+29, -2.35122420e+07, -4.15755937e+06]), 'split264_test_score': array([ -429038.41572768,  -348100.        , -6170170.86523932,\n",
      "       -3957378.9675471 ]), 'split265_test_score': array([-6.40000000e+01, -1.25670250e+05, -9.86028972e+05, -2.61431455e+05]), 'split266_test_score': array([-1170724.        ,  -302500.        ,  -287092.46462513,\n",
      "          -9852.28788952]), 'split267_test_score': array([-792979.09440338,  -56882.25      , -738865.57597705,\n",
      "        -28577.75917362]), 'split268_test_score': array([ -428101.95769619,  -156222.5625    , -4307688.97513124,\n",
      "       -2223402.58440277]), 'split269_test_score': array([-2.61562811e+04, -1.54449000e+05, -5.11794518e+07, -3.28332298e+02]), 'split270_test_score': array([-19044.        ,  -4489.        , -86870.98164292, -32663.26938796]), 'split271_test_score': array([  -19506.69517185,   -30976.        , -1623331.53837102,\n",
      "        -368925.60450024]), 'split272_test_score': array([ -814506.25      , -1455642.25      , -4869111.06158318,\n",
      "       -2492861.93000043]), 'split273_test_score': array([   -60025.        , -14538969.        ,  -1629817.88005008,\n",
      "         -182627.89762392]), 'split274_test_score': array([-2.60100000e+05, -3.99408702e+31, -2.15924422e+08, -1.99015138e+07]), 'split275_test_score': array([-5.96783492e+06, -1.88276192e+31, -8.92950707e+07, -3.28645496e+06]), 'split276_test_score': array([  -69031.65099603,  -624100.        , -1168223.92262913,\n",
      "       -3336969.73542894]), 'split277_test_score': array([ -280900.        ,  -786769.        ,    -7712.15241339,\n",
      "       -1231225.46897303]), 'split278_test_score': array([   -93412.64900032, -12131289.        ,   -374794.34448912,\n",
      "         -212294.73407085]), 'split279_test_score': array([-6.25681000e+05, -4.85809000e+05, -2.11860396e+08, -4.04946853e+06]), 'split280_test_score': array([ -2286395.04127264,    -12544.        , -10048148.38366197,\n",
      "        -1159300.65277184]), 'split281_test_score': array([-1.04448400e+06, -2.75560000e+04, -7.08508615e+01, -5.25462861e+04]), 'split282_test_score': array([-1240996.        , -1373584.        ,  -435273.68360326,\n",
      "       -6939608.91532536]), 'split283_test_score': array([-320873.78219036,  -97969.        ,  -50337.45487759,\n",
      "        -56119.07320405]), 'split284_test_score': array([ -392950.940648  ,  -931225.        , -8020893.55826187,\n",
      "        -565047.32511491]), 'split285_test_score': array([  -8464.        ,   -1501.5625    , -824197.64076475,\n",
      "        -19756.30385398]), 'split286_test_score': array([-384473.88096899,  -90601.        ,  -92333.62868814,\n",
      "        -12024.18960525]), 'split287_test_score': array([   -86665.34132936,   -508369.        , -13481536.64913539,\n",
      "        -2129945.94517469]), 'split288_test_score': array([-2.06153925e+06, -7.12890000e+04, -2.41671063e+07, -7.28811824e+03]), 'split289_test_score': array([-1272384.        ,  -749956.        ,  -709000.95544271,\n",
      "        -770085.68234878]), 'split290_test_score': array([ -49284.        , -260100.        , -617204.52841892,\n",
      "       -555767.12750857]), 'split291_test_score': array([-7.38406067e+05, -3.01022500e+04, -1.16825138e+04, -6.07235806e+02]), 'split292_test_score': array([-1227664.        ,  -703921.        ,  -111019.54754378,\n",
      "        -778281.911465  ]), 'split293_test_score': array([-3.57588100e+06, -8.41000000e+02, -5.11025010e+01, -1.47312193e+03]), 'split294_test_score': array([-1.27739325e+06, -1.88475374e+31, -5.35419323e+06, -2.02258547e+06]), 'split295_test_score': array([-6.12863136e+05, -5.22139505e+29, -1.39486176e+08, -1.96193240e+07]), 'split296_test_score': array([  -190969.        ,   -184900.        , -31040588.46741991,\n",
      "         -485474.65097894]), 'split297_test_score': array([ -4225.        , -19881.        ,  -3784.24994046,  -9331.09547108]), 'split298_test_score': array([-294719.31221288,  -17956.        ,   -1144.03806884,\n",
      "        -44504.43009342]), 'split299_test_score': array([-1.93600000e+03, -5.49081000e+05, -5.72927282e+06, -7.87649370e+00]), 'split300_test_score': array([ -233289.        , -2070721.        , -9607636.58901116,\n",
      "       -4384788.94249956]), 'split301_test_score': array([-107912.25      , -159201.        ,    -563.66163925,\n",
      "        -39539.22052816]), 'split302_test_score': array([ -10201.        ,  -22052.25      , -374009.72190538,\n",
      "       -461648.27704722]), 'split303_test_score': array([-1.12225000e+05, -1.87690000e+04, -9.35837030e+06, -7.94822544e+03]), 'split304_test_score': array([  -178084.        ,    -66049.        , -12094411.39384841,\n",
      "        -2084445.53827306]), 'split305_test_score': array([ -538022.25      ,  -372100.        ,  -347852.6087206 ,\n",
      "       -2326082.60191751]), 'split306_test_score': array([  -44521.        , -5317636.        ,  -238545.73758593,\n",
      "       -3904282.21400673]), 'split307_test_score': array([-1.8490000e+03, -1.0753690e+06, -8.4283558e+06, -4.4027267e+06]), 'split308_test_score': array([  -6241.        ,  -96721.        , -707113.12412141,\n",
      "        -13940.93249446]), 'split309_test_score': array([-2930944.        ,  -853776.        ,   -52383.20426902,\n",
      "        -190926.36953601]), 'split310_test_score': array([-7.41321000e+05, -1.93600000e+03, -6.63301943e+07, -1.02755966e+07]), 'split311_test_score': array([-190103.89034939, -226576.        ,  -46690.92093647,\n",
      "        -14452.21842912]), 'split312_test_score': array([  -3481.        ,   -3721.        , -687871.54304007,\n",
      "       -161439.22262497]), 'split313_test_score': array([ -49284.        ,  -40401.        , -200117.48100589,\n",
      "       -370372.48617961]), 'split314_test_score': array([ -725904.        ,  -199809.        , -1507313.14774371,\n",
      "        -352013.60524906]), 'split315_test_score': array([  -835396.        ,  -1304164.        ,  -6124696.84777392,\n",
      "       -10911885.37854573]), 'split316_test_score': array([-2447493.73496545,   -35344.        ,  -446146.75360489,\n",
      "        -380988.67786986]), 'split317_test_score': array([-1.28956362e+02, -6.08400000e+03, -3.28167498e+06, -6.82471949e+05]), 'split318_test_score': array([ -595248.26835678,   -10000.        , -7424649.30145917,\n",
      "       -1320716.6956815 ]), 'split319_test_score': array([-816734.37232635,  -33306.25      , -449265.93178748,\n",
      "        -64325.8872281 ]), 'split320_test_score': array([-8.11242700e+02, -4.18202500e+04, -1.05427507e+05, -2.06562777e+06]), 'split321_test_score': array([ -1375649.82996912,    -63252.25      , -43399037.21075258,\n",
      "       -21084262.3241814 ]), 'split322_test_score': array([ -2702736.        ,  -5897612.25      , -51206797.66565134,\n",
      "         -830621.6729499 ]), 'split323_test_score': array([-1530169.        ,  -210681.        ,  -184067.64872932,\n",
      "        -745819.14103558]), 'split324_test_score': array([  -4878.46271773, -238144.        , -100464.70604596,\n",
      "       -653188.39614977]), 'split325_test_score': array([ -8884661.19306425,  -4901796.        , -12279917.14755036,\n",
      "       -15843491.38871554]), 'split326_test_score': array([-1.59227849e+03, -1.14062400e+06, -9.26640399e+04, -2.71139088e+06]), 'split327_test_score': array([ -624991.24470162, -1320201.        ,  -481571.24474686,\n",
      "       -1234240.12175542]), 'split328_test_score': array([  -159201.        ,   -263169.        , -18916408.66493897,\n",
      "        -3221332.97237039]), 'split329_test_score': array([-4.86407795e+02, -9.18090000e+04, -1.68837218e+07, -7.95492298e+04]), 'split330_test_score': array([ -19044.        , -112225.        ,  -30759.60808539,\n",
      "        -14513.15667297]), 'split331_test_score': array([-7.57644547e+05, -1.10068862e+28, -6.72869993e+07, -1.64490328e+07]), 'split332_test_score': array([-6.83270485e+03, -7.84000000e+02, -3.62874782e+06, -5.10015693e+05]), 'split333_test_score': array([  -719104.        ,  -1540081.        , -52081010.68984912,\n",
      "        -1389245.36830179]), 'split334_test_score': array([-178929.        ,  -65025.        ,   -4407.11757619,\n",
      "       -706456.34126699]), 'split335_test_score': array([-139674.72081417,  -79524.        , -241216.88842266,\n",
      "       -360439.90509894]), 'split336_test_score': array([-381924.        , -611133.0625    ,  -37541.07066091,\n",
      "       -464976.7517601 ]), 'split337_test_score': array([-1.12225000e+05, -2.40331347e+27, -1.56777824e+06, -3.86811558e+06]), 'split338_test_score': array([-154449.        , -310249.        ,  -72833.31406286,\n",
      "       -142907.35381438]), 'split339_test_score': array([ -34969.        ,  -50625.        , -626621.92128779,\n",
      "       -253007.83180087]), 'split340_test_score': array([-1.60000000e+01, -3.68640000e+04, -2.94313649e+07, -1.12518327e+07]), 'split341_test_score': array([-6.06562416e+05, -4.84000000e+02, -2.04761279e+07, -3.69044338e+06]), 'split342_test_score': array([-130061.40690939, -187489.        ,   -2158.48634588,\n",
      "        -60378.08182053]), 'split343_test_score': array([  -3969.        ,  -95481.        , -138998.99317312,\n",
      "        -63064.24044204]), 'split344_test_score': array([ -613383.58487094,   -82944.        , -2481404.25600966,\n",
      "       -1470159.16663746]), 'split345_test_score': array([ -867923.16040303,  -595984.        , -1458778.6327882 ,\n",
      "         -15670.41988928]), 'split346_test_score': array([-592900.        ,   -1463.0625    ,   -2993.13206578,\n",
      "         -1574.74263875]), 'split347_test_score': array([-130772.640625  , -187489.        ,  -55301.06707995,\n",
      "       -677111.37569953]), 'split348_test_score': array([-7.02244000e+05, -4.21848016e+31, -2.07846143e+08, -9.97556117e+07]), 'split349_test_score': array([   -8372.25      ,   -15376.        , -3880172.25521126,\n",
      "        -526583.25306518]), 'split350_test_score': array([-1954404.        ,  -521284.        ,  -267164.45574888,\n",
      "        -436260.65974976]), 'split351_test_score': array([   -82369.        ,    -46225.        ,   -394667.80898067,\n",
      "       -11148481.45820305]), 'split352_test_score': array([  -340468.50571115, -28196100.        ,   -297116.67270202,\n",
      "          -57315.54695693]), 'split353_test_score': array([ -937024.        , -1081600.        ,   -31478.80547693,\n",
      "         -35503.81276745]), 'split354_test_score': array([-1.65288265e+05, -1.73251406e+04, -2.36310864e+07, -3.05531381e+07]), 'split355_test_score': array([  -19044.        ,   -66049.        ,  -188319.61056432,\n",
      "       -1330711.98434616]), 'split356_test_score': array([ -354919.13368034,  -448900.        , -4520364.93956158,\n",
      "       -2807811.09842247]), 'split357_test_score': array([-119025.        , -114244.        , -153568.36015683,\n",
      "        -14632.84429422]), 'split358_test_score': array([-2604996.        , -2418025.        , -1239357.00506679,\n",
      "        -577741.68309257]), 'split359_test_score': array([-236196.        , -529984.        , -471522.40930434,\n",
      "       -531125.40883261]), 'split360_test_score': array([-512656.        ,  -15376.        ,   -1243.32705486,\n",
      "       -192633.57410543]), 'split361_test_score': array([ -19881.        , -802480.03515625, -760133.35155092,\n",
      "         -2322.67398047]), 'split362_test_score': array([ -866761.        , -1937664.        ,  -240686.74235   ,\n",
      "        -228243.71915918]), 'split363_test_score': array([  -289771.56907166,  -2768896.        , -28347151.99327913,\n",
      "       -10139001.65928122]), 'split364_test_score': array([  -2725.60075999,  -92416.        , -796450.59579303,\n",
      "       -488079.46600438]), 'split365_test_score': array([  -13456.        ,  -186435.04785156, -3634410.5311733 ,\n",
      "        -580296.60380234]), 'split366_test_score': array([ -414736.        ,    -4624.        , -2926517.34147167,\n",
      "       -2770984.9163944 ]), 'split367_test_score': array([  -14232.00442286,   -64516.        , -2064279.20110988,\n",
      "         -99087.07157055]), 'split368_test_score': array([ -98596.        ,  -97344.        , -481005.31602401,\n",
      "        -50382.73740671]), 'split369_test_score': array([-1.26269070e+05, -3.88853669e+29, -4.19426126e+05, -2.73422253e+06]), 'split370_test_score': array([-1.01124000e+05, -1.01203600e+06, -6.31857922e+03, -6.50149499e+06]), 'split371_test_score': array([ -1817104.        ,    -63504.        , -10668792.1243204 ,\n",
      "         -667234.88117028]), 'split372_test_score': array([-1.38198062e+05, -1.59527929e+29, -2.18086983e+07, -1.39220286e+07]), 'split373_test_score': array([ -133225.        , -1687401.        ,  -146447.18075951,\n",
      "        -304537.1696021 ]), 'split374_test_score': array([ -467856.        ,  -476100.        , -3277565.62378059,\n",
      "       -4676203.02949412]), 'split375_test_score': array([  -4405.640625  ,   -5041.        , -114501.58107912,\n",
      "         -4089.74771933]), 'split376_test_score': array([  -160059.81503559,    -30276.        , -15365691.39213349,\n",
      "         -578565.55275013]), 'split377_test_score': array([ -49729.        , -158852.06640625, -217320.97569794,\n",
      "       -214341.12278391]), 'split378_test_score': array([ -252774.86198946,   -80656.        , -2123434.33092342,\n",
      "       -1435358.18867004]), 'split379_test_score': array([-1668300.58541399, -4088484.        ,  -270891.41739076,\n",
      "        -279976.16039592]), 'split380_test_score': array([ -568874.84715345,   -91204.        , -9102180.2700037 ,\n",
      "        -233045.00597686]), 'split381_test_score': array([ -80656.        ,  -97344.        , -355130.59176016,\n",
      "       -640973.22708174]), 'split382_test_score': array([ -108241.        ,  -958441.        ,  -268890.49365448,\n",
      "       -1307099.75851038]), 'split383_test_score': array([-2.11600000e+03, -2.06116000e+05, -2.46435284e+06, -1.47972992e+05]), 'split384_test_score': array([ -103684.        ,  -272484.        ,   -65028.82987077,\n",
      "       -2731079.49042077]), 'split385_test_score': array([  -59536.        ,  -121452.25      , -4221177.23785024,\n",
      "        -623323.31655755]), 'split386_test_score': array([ -902500.        ,  -228484.        , -6053877.51929434,\n",
      "         -73803.24225339]), 'split387_test_score': array([ -2601.       ,   -361.       , -13923.1407784, -12248.684751 ]), 'split388_test_score': array([   -51776.3456596 ,   -735306.25      , -22098841.55527653,\n",
      "         -551614.5063078 ]), 'split389_test_score': array([ -148996.        ,   -23104.        , -3328048.28671023,\n",
      "       -1292711.82874628]), 'split390_test_score': array([  -829216.5952495 ,   -128881.        , -15686962.65436536,\n",
      "         -578870.0808053 ]), 'split391_test_score': array([-2.25000000e+02, -1.21870810e+07, -2.77999812e+04, -3.03573187e+04]), 'split392_test_score': array([  -78961.        ,  -113569.        , -1696044.08171033,\n",
      "       -1205471.30726351]), 'split393_test_score': array([-526600.76049452, -181476.        , -506685.17287533,\n",
      "        -67145.99868259]), 'split394_test_score': array([-1.64842588e+05, -5.76000000e+02, -1.77102220e+06, -9.69071313e+05]), 'split395_test_score': array([-6.49636000e+05, -4.00000000e+00, -8.84634964e+04, -3.63098909e+04]), 'split396_test_score': array([-9.86049000e+05, -1.21000000e+02, -8.51453483e+07, -1.96623801e+06]), 'split397_test_score': array([-5.09979985e+03, -1.69000000e+02, -1.82067213e+05, -4.00386339e+05]), 'split398_test_score': array([-4.16612628e+05, -9.16272900e+06, -1.47589930e+03, -2.66593524e+02]), 'split399_test_score': array([  -33489.        , -6734025.        , -1393592.63266569,\n",
      "        -462916.95562711]), 'split400_test_score': array([ -608302.50390625, -1121481.        , -1576672.87277539,\n",
      "       -1734612.37948201]), 'split401_test_score': array([  -26569.        ,  -502681.        ,  -115201.41805788,\n",
      "       -5231996.1717296 ]), 'split402_test_score': array([-3.10464400e+06, -5.93264282e+29, -1.79360871e+06, -4.08291562e+06]), 'split403_test_score': array([ -2652.25      ,  -8100.        , -79883.38974525, -12670.84263802]), 'split404_test_score': array([  -98596.        ,  -755161.        , -7474894.50768494,\n",
      "       -2473828.2877337 ]), 'split405_test_score': array([-665856.        ,  -71824.        , -591952.29878256,\n",
      "       -296370.36906319]), 'split406_test_score': array([-8.00890000e+04, -9.05335139e+29, -7.07324925e+07, -2.57131382e+07]), 'split407_test_score': array([-38809.        , -20449.        , -25451.75082568, -14576.9526639 ]), 'split408_test_score': array([-3.28042562e+05, -2.48472169e+08, -4.53448839e+06, -3.85124682e+06]), 'split409_test_score': array([-1.23210000e+04, -4.03357014e+06, -2.82330094e+07, -3.69378349e+06]), 'split410_test_score': array([-1.30323300e+06, -3.00801493e+28, -4.43717233e+07, -3.33417152e+07]), 'split411_test_score': array([ -693889.        ,  -811801.        , -1191918.05942209,\n",
      "         -50482.90868358]), 'split412_test_score': array([ -710692.52297433, -3179089.        , -2251798.14477119,\n",
      "         -30040.83323363]), 'split413_test_score': array([ -55696.        , -338724.        , -445230.26613655,\n",
      "        -15206.81655696]), 'split414_test_score': array([-6.32025000e+05, -2.57556250e+03, -3.08112630e+07, -4.48959304e+04]), 'split415_test_score': array([  -1764.        , -331776.        ,   -5588.43029708,\n",
      "         -2112.40574587]), 'split416_test_score': array([-106276.        , -459684.        , -247250.28038255,\n",
      "       -476635.74263213]), 'mean_test_score': array([-6.38053320e+05, -3.21926410e+29, -8.89925242e+06, -2.33680511e+06]), 'std_test_score': array([1.50088705e+06, 3.13085433e+30, 2.51424410e+07, 6.40299922e+06]), 'rank_test_score': array([1, 4, 3, 2], dtype=int32)}\n"
     ]
    }
   ],
   "source": [
    "from sklearn.model_selection import GridSearchCV\n",
    "from sklearn.pipeline import make_pipeline\n",
    "from sklearn.preprocessing import PolynomialFeatures\n",
    "from sklearn.model_selection import cross_val_score \n",
    "from sklearn.pipeline import Pipeline\n",
    "from sklearn.model_selection import LeaveOneOut, KFold\n",
    "\n",
    "pipe = Pipeline(steps=[\n",
    "    ('poly', PolynomialFeatures(include_bias=False)),\n",
    "    ('model', LinearRegression()),\n",
    "])\n",
    "\n",
    "pows = range(1,5)\n",
    "\n",
    "search = GridSearchCV(\n",
    "    estimator=pipe,\n",
    "    param_grid={'poly__degree': list(pows)},\n",
    "    scoring='neg_mean_squared_error',\n",
    "    cv=LeaveOneOut(),\n",
    ")\n",
    "\n",
    "search.fit(X_train, y_train)\n",
    "\n",
    "y_pred = search.predict(X_test)\n",
    "\n",
    "r2 = r2_score(y_test, y_pred)\n",
    "print(r2)\n",
    "print(search.cv_results_)"
   ]
  },
  {
   "cell_type": "markdown",
   "metadata": {
    "id": "2JevQJAi3WwW"
   },
   "source": [
    "# Grid Search Linear Regression"
   ]
  },
  {
   "cell_type": "code",
   "execution_count": 29,
   "metadata": {
    "id": "H66M13Ne3ZP-"
   },
   "outputs": [
    {
     "name": "stdout",
     "output_type": "stream",
     "text": [
      "Best Score: -575.5505440871727\n",
      "Best Hyperparameters: {'alpha': 0.01, 'fit_intercept': True, 'normalize': True, 'solver': 'lsqr'}\n",
      "Best R2 Score:  0.8340894924265666\n"
     ]
    }
   ],
   "source": [
    "# grid search linear regression model on the auto insurance dataset\n",
    "from pandas import read_csv\n",
    "from sklearn.linear_model import Ridge\n",
    "from sklearn.model_selection import RepeatedKFold\n",
    "from sklearn.model_selection import GridSearchCV\n",
    "\n",
    "\n",
    "# define model\n",
    "model = Ridge()\n",
    "# define evaluation\n",
    "cv = RepeatedKFold(n_splits=10, n_repeats=3, random_state=1)\n",
    "# define search space\n",
    "space = dict()\n",
    "space['solver'] = ['svd', 'cholesky', 'lsqr', 'sag']\n",
    "space['alpha'] = [1e-5, 1e-4, 1e-3, 1e-2, 1e-1, 1, 10, 100]\n",
    "space['fit_intercept'] = [True, False]\n",
    "space['normalize'] = [True, False]\n",
    "# define search\n",
    "search = GridSearchCV(model, space, scoring='neg_mean_absolute_error', n_jobs=-1, cv=cv)\n",
    "# execute search\n",
    "result = search.fit(X_train, y_train)\n",
    "# summarize result\n",
    "print('Best Score: %s' % result.best_score_)\n",
    "print('Best Hyperparameters: %s' % result.best_params_)\n",
    "y_pred = search.predict(X_test)\n",
    "r2 = r2_score(y_test, y_pred)\n",
    "print('Best R2 Score: ', r2)"
   ]
  },
  {
   "cell_type": "code",
   "execution_count": null,
   "metadata": {},
   "outputs": [],
   "source": []
  }
 ],
 "metadata": {
  "colab": {
   "collapsed_sections": [],
   "name": "Task 2",
   "provenance": [],
   "toc_visible": true
  },
  "kernelspec": {
   "display_name": "Python 3",
   "language": "python",
   "name": "python3"
  },
  "language_info": {
   "codemirror_mode": {
    "name": "ipython",
    "version": 3
   },
   "file_extension": ".py",
   "mimetype": "text/x-python",
   "name": "python",
   "nbconvert_exporter": "python",
   "pygments_lexer": "ipython3",
   "version": "3.6.13"
  }
 },
 "nbformat": 4,
 "nbformat_minor": 4
}
